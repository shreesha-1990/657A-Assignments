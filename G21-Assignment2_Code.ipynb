{
 "cells": [
  {
   "cell_type": "markdown",
   "metadata": {},
   "source": [
    "### ECE 657A: Data and Knowledge Modeling and Analysis\n",
    "#### Assignment 2: Data Cleaning and Dimensionality Reduction\n"
   ]
  },
  {
   "cell_type": "markdown",
   "metadata": {},
   "source": [
    "**Submitted By Group 21:**<br>\n",
    "\n",
    "**Ankush Malhotra - 20709477**<br>\n",
    "\n",
    "**Shreesha Pillangere Ramachandra – 20740615**<br>\n",
    "\n",
    "**Gunasekaran Marati Saravanan - 20715573**<br>"
   ]
  },
  {
   "cell_type": "code",
   "execution_count": 1,
   "metadata": {},
   "outputs": [],
   "source": [
    "#Importing libraries :\n",
    "import matplotlib.pyplot as plt\n",
    "import pandas as pd\n",
    "import numpy as np\n",
    "import seaborn as sns\n",
    "%matplotlib inline\n",
    "from scipy import stats\n",
    "import warnings\n",
    "warnings.filterwarnings(\"ignore\")"
   ]
  },
  {
   "cell_type": "markdown",
   "metadata": {},
   "source": [
    "## Question 2:Parameter Selection and Classification (for dataset B)\n",
    "### Classify dataset B using four classifiers: k-NN, Support Vector Machine (with RBF kernel), Random Forests and simple Neural Networks (MLPs). The objective is to experiment with parameter selection in training classifiers and to compare the performance of these well- known classification methods."
   ]
  },
  {
   "cell_type": "code",
   "execution_count": 2,
   "metadata": {},
   "outputs": [
    {
     "data": {
      "text/html": [
       "<div>\n",
       "<style scoped>\n",
       "    .dataframe tbody tr th:only-of-type {\n",
       "        vertical-align: middle;\n",
       "    }\n",
       "\n",
       "    .dataframe tbody tr th {\n",
       "        vertical-align: top;\n",
       "    }\n",
       "\n",
       "    .dataframe thead th {\n",
       "        text-align: right;\n",
       "    }\n",
       "</style>\n",
       "<table border=\"1\" class=\"dataframe\">\n",
       "  <thead>\n",
       "    <tr style=\"text-align: right;\">\n",
       "      <th></th>\n",
       "      <th>0</th>\n",
       "      <th>1</th>\n",
       "      <th>2</th>\n",
       "      <th>3</th>\n",
       "      <th>4</th>\n",
       "      <th>5</th>\n",
       "      <th>6</th>\n",
       "      <th>7</th>\n",
       "      <th>8</th>\n",
       "      <th>9</th>\n",
       "      <th>...</th>\n",
       "      <th>48</th>\n",
       "      <th>49</th>\n",
       "      <th>50</th>\n",
       "      <th>51</th>\n",
       "      <th>52</th>\n",
       "      <th>53</th>\n",
       "      <th>54</th>\n",
       "      <th>55</th>\n",
       "      <th>56</th>\n",
       "      <th>57</th>\n",
       "    </tr>\n",
       "  </thead>\n",
       "  <tbody>\n",
       "    <tr>\n",
       "      <th>0</th>\n",
       "      <td>1</td>\n",
       "      <td>2</td>\n",
       "      <td>1</td>\n",
       "      <td>2</td>\n",
       "      <td>1</td>\n",
       "      <td>2</td>\n",
       "      <td>3</td>\n",
       "      <td>3</td>\n",
       "      <td>3</td>\n",
       "      <td>3</td>\n",
       "      <td>...</td>\n",
       "      <td>3</td>\n",
       "      <td>2</td>\n",
       "      <td>3</td>\n",
       "      <td>4</td>\n",
       "      <td>2</td>\n",
       "      <td>2</td>\n",
       "      <td>2</td>\n",
       "      <td>2</td>\n",
       "      <td>1</td>\n",
       "      <td>1</td>\n",
       "    </tr>\n",
       "    <tr>\n",
       "      <th>1</th>\n",
       "      <td>3</td>\n",
       "      <td>3</td>\n",
       "      <td>4</td>\n",
       "      <td>2</td>\n",
       "      <td>1</td>\n",
       "      <td>2</td>\n",
       "      <td>2</td>\n",
       "      <td>4</td>\n",
       "      <td>3</td>\n",
       "      <td>2</td>\n",
       "      <td>...</td>\n",
       "      <td>1</td>\n",
       "      <td>4</td>\n",
       "      <td>3</td>\n",
       "      <td>4</td>\n",
       "      <td>4</td>\n",
       "      <td>4</td>\n",
       "      <td>1</td>\n",
       "      <td>3</td>\n",
       "      <td>4</td>\n",
       "      <td>1</td>\n",
       "    </tr>\n",
       "    <tr>\n",
       "      <th>2</th>\n",
       "      <td>4</td>\n",
       "      <td>1</td>\n",
       "      <td>4</td>\n",
       "      <td>4</td>\n",
       "      <td>4</td>\n",
       "      <td>4</td>\n",
       "      <td>1</td>\n",
       "      <td>1</td>\n",
       "      <td>2</td>\n",
       "      <td>1</td>\n",
       "      <td>...</td>\n",
       "      <td>1</td>\n",
       "      <td>2</td>\n",
       "      <td>1</td>\n",
       "      <td>1</td>\n",
       "      <td>4</td>\n",
       "      <td>2</td>\n",
       "      <td>2</td>\n",
       "      <td>4</td>\n",
       "      <td>4</td>\n",
       "      <td>1</td>\n",
       "    </tr>\n",
       "    <tr>\n",
       "      <th>3</th>\n",
       "      <td>1</td>\n",
       "      <td>4</td>\n",
       "      <td>1</td>\n",
       "      <td>1</td>\n",
       "      <td>3</td>\n",
       "      <td>3</td>\n",
       "      <td>4</td>\n",
       "      <td>4</td>\n",
       "      <td>3</td>\n",
       "      <td>4</td>\n",
       "      <td>...</td>\n",
       "      <td>1</td>\n",
       "      <td>3</td>\n",
       "      <td>3</td>\n",
       "      <td>4</td>\n",
       "      <td>1</td>\n",
       "      <td>3</td>\n",
       "      <td>3</td>\n",
       "      <td>4</td>\n",
       "      <td>2</td>\n",
       "      <td>-1</td>\n",
       "    </tr>\n",
       "    <tr>\n",
       "      <th>4</th>\n",
       "      <td>3</td>\n",
       "      <td>4</td>\n",
       "      <td>4</td>\n",
       "      <td>3</td>\n",
       "      <td>1</td>\n",
       "      <td>1</td>\n",
       "      <td>4</td>\n",
       "      <td>4</td>\n",
       "      <td>4</td>\n",
       "      <td>1</td>\n",
       "      <td>...</td>\n",
       "      <td>3</td>\n",
       "      <td>1</td>\n",
       "      <td>3</td>\n",
       "      <td>2</td>\n",
       "      <td>1</td>\n",
       "      <td>4</td>\n",
       "      <td>2</td>\n",
       "      <td>1</td>\n",
       "      <td>1</td>\n",
       "      <td>-1</td>\n",
       "    </tr>\n",
       "  </tbody>\n",
       "</table>\n",
       "<p>5 rows × 58 columns</p>\n",
       "</div>"
      ],
      "text/plain": [
       "   0   1   2   3   4   5   6   7   8   9  ...  48  49  50  51  52  53  54  55  \\\n",
       "0   1   2   1   2   1   2   3   3   3   3 ...   3   2   3   4   2   2   2   2   \n",
       "1   3   3   4   2   1   2   2   4   3   2 ...   1   4   3   4   4   4   1   3   \n",
       "2   4   1   4   4   4   4   1   1   2   1 ...   1   2   1   1   4   2   2   4   \n",
       "3   1   4   1   1   3   3   4   4   3   4 ...   1   3   3   4   1   3   3   4   \n",
       "4   3   4   4   3   1   1   4   4   4   1 ...   3   1   3   2   1   4   2   1   \n",
       "\n",
       "   56  57  \n",
       "0   1   1  \n",
       "1   4   1  \n",
       "2   4   1  \n",
       "3   2  -1  \n",
       "4   1  -1  \n",
       "\n",
       "[5 rows x 58 columns]"
      ]
     },
     "execution_count": 2,
     "metadata": {},
     "output_type": "execute_result"
    }
   ],
   "source": [
    "#Reading \"DataDNA.csv\" file:\n",
    "df_b = pd.read_csv('DataDNA.csv',header=None)\n",
    "df_b.head()"
   ]
  },
  {
   "cell_type": "code",
   "execution_count": 3,
   "metadata": {},
   "outputs": [
    {
     "data": {
      "text/html": [
       "<div>\n",
       "<style scoped>\n",
       "    .dataframe tbody tr th:only-of-type {\n",
       "        vertical-align: middle;\n",
       "    }\n",
       "\n",
       "    .dataframe tbody tr th {\n",
       "        vertical-align: top;\n",
       "    }\n",
       "\n",
       "    .dataframe thead th {\n",
       "        text-align: right;\n",
       "    }\n",
       "</style>\n",
       "<table border=\"1\" class=\"dataframe\">\n",
       "  <thead>\n",
       "    <tr style=\"text-align: right;\">\n",
       "      <th></th>\n",
       "      <th>0</th>\n",
       "      <th>1</th>\n",
       "      <th>2</th>\n",
       "      <th>3</th>\n",
       "      <th>4</th>\n",
       "      <th>5</th>\n",
       "      <th>6</th>\n",
       "      <th>7</th>\n",
       "      <th>8</th>\n",
       "      <th>9</th>\n",
       "      <th>...</th>\n",
       "      <th>48</th>\n",
       "      <th>49</th>\n",
       "      <th>50</th>\n",
       "      <th>51</th>\n",
       "      <th>52</th>\n",
       "      <th>53</th>\n",
       "      <th>54</th>\n",
       "      <th>55</th>\n",
       "      <th>56</th>\n",
       "      <th>57</th>\n",
       "    </tr>\n",
       "  </thead>\n",
       "  <tbody>\n",
       "    <tr>\n",
       "      <th>count</th>\n",
       "      <td>2200.000000</td>\n",
       "      <td>2200.000000</td>\n",
       "      <td>2200.000000</td>\n",
       "      <td>2200.000000</td>\n",
       "      <td>2200.000000</td>\n",
       "      <td>2200.000000</td>\n",
       "      <td>2200.000000</td>\n",
       "      <td>2200.000000</td>\n",
       "      <td>2200.000000</td>\n",
       "      <td>2200.00000</td>\n",
       "      <td>...</td>\n",
       "      <td>2200.000000</td>\n",
       "      <td>2200.000000</td>\n",
       "      <td>2200.000000</td>\n",
       "      <td>2200.000000</td>\n",
       "      <td>2200.000000</td>\n",
       "      <td>2200.000000</td>\n",
       "      <td>2200.000000</td>\n",
       "      <td>2200.000000</td>\n",
       "      <td>2200.000000</td>\n",
       "      <td>2200.000000</td>\n",
       "    </tr>\n",
       "    <tr>\n",
       "      <th>mean</th>\n",
       "      <td>2.493182</td>\n",
       "      <td>2.529545</td>\n",
       "      <td>2.506818</td>\n",
       "      <td>2.526818</td>\n",
       "      <td>2.547727</td>\n",
       "      <td>2.492727</td>\n",
       "      <td>2.550000</td>\n",
       "      <td>2.541364</td>\n",
       "      <td>2.553182</td>\n",
       "      <td>2.56500</td>\n",
       "      <td>...</td>\n",
       "      <td>2.498636</td>\n",
       "      <td>2.497273</td>\n",
       "      <td>2.439091</td>\n",
       "      <td>2.495909</td>\n",
       "      <td>2.482273</td>\n",
       "      <td>2.435909</td>\n",
       "      <td>2.500455</td>\n",
       "      <td>2.456364</td>\n",
       "      <td>2.512273</td>\n",
       "      <td>0.033636</td>\n",
       "    </tr>\n",
       "    <tr>\n",
       "      <th>std</th>\n",
       "      <td>1.103943</td>\n",
       "      <td>1.086542</td>\n",
       "      <td>1.098160</td>\n",
       "      <td>1.118780</td>\n",
       "      <td>1.081699</td>\n",
       "      <td>1.099399</td>\n",
       "      <td>1.109818</td>\n",
       "      <td>1.103600</td>\n",
       "      <td>1.126751</td>\n",
       "      <td>1.10822</td>\n",
       "      <td>...</td>\n",
       "      <td>1.104786</td>\n",
       "      <td>1.070499</td>\n",
       "      <td>1.093583</td>\n",
       "      <td>1.087354</td>\n",
       "      <td>1.065672</td>\n",
       "      <td>1.089652</td>\n",
       "      <td>1.091952</td>\n",
       "      <td>1.093162</td>\n",
       "      <td>1.086456</td>\n",
       "      <td>0.999661</td>\n",
       "    </tr>\n",
       "    <tr>\n",
       "      <th>min</th>\n",
       "      <td>1.000000</td>\n",
       "      <td>1.000000</td>\n",
       "      <td>1.000000</td>\n",
       "      <td>1.000000</td>\n",
       "      <td>1.000000</td>\n",
       "      <td>1.000000</td>\n",
       "      <td>1.000000</td>\n",
       "      <td>1.000000</td>\n",
       "      <td>1.000000</td>\n",
       "      <td>1.00000</td>\n",
       "      <td>...</td>\n",
       "      <td>1.000000</td>\n",
       "      <td>1.000000</td>\n",
       "      <td>1.000000</td>\n",
       "      <td>1.000000</td>\n",
       "      <td>1.000000</td>\n",
       "      <td>1.000000</td>\n",
       "      <td>1.000000</td>\n",
       "      <td>1.000000</td>\n",
       "      <td>1.000000</td>\n",
       "      <td>-1.000000</td>\n",
       "    </tr>\n",
       "    <tr>\n",
       "      <th>25%</th>\n",
       "      <td>2.000000</td>\n",
       "      <td>2.000000</td>\n",
       "      <td>2.000000</td>\n",
       "      <td>2.000000</td>\n",
       "      <td>2.000000</td>\n",
       "      <td>2.000000</td>\n",
       "      <td>2.000000</td>\n",
       "      <td>2.000000</td>\n",
       "      <td>2.000000</td>\n",
       "      <td>2.00000</td>\n",
       "      <td>...</td>\n",
       "      <td>2.000000</td>\n",
       "      <td>2.000000</td>\n",
       "      <td>1.000000</td>\n",
       "      <td>2.000000</td>\n",
       "      <td>2.000000</td>\n",
       "      <td>1.000000</td>\n",
       "      <td>2.000000</td>\n",
       "      <td>2.000000</td>\n",
       "      <td>2.000000</td>\n",
       "      <td>-1.000000</td>\n",
       "    </tr>\n",
       "    <tr>\n",
       "      <th>50%</th>\n",
       "      <td>3.000000</td>\n",
       "      <td>3.000000</td>\n",
       "      <td>3.000000</td>\n",
       "      <td>3.000000</td>\n",
       "      <td>3.000000</td>\n",
       "      <td>3.000000</td>\n",
       "      <td>3.000000</td>\n",
       "      <td>3.000000</td>\n",
       "      <td>3.000000</td>\n",
       "      <td>3.00000</td>\n",
       "      <td>...</td>\n",
       "      <td>3.000000</td>\n",
       "      <td>2.000000</td>\n",
       "      <td>2.000000</td>\n",
       "      <td>2.000000</td>\n",
       "      <td>2.000000</td>\n",
       "      <td>2.000000</td>\n",
       "      <td>3.000000</td>\n",
       "      <td>2.000000</td>\n",
       "      <td>3.000000</td>\n",
       "      <td>1.000000</td>\n",
       "    </tr>\n",
       "    <tr>\n",
       "      <th>75%</th>\n",
       "      <td>3.000000</td>\n",
       "      <td>3.000000</td>\n",
       "      <td>3.000000</td>\n",
       "      <td>4.000000</td>\n",
       "      <td>3.000000</td>\n",
       "      <td>3.000000</td>\n",
       "      <td>4.000000</td>\n",
       "      <td>3.000000</td>\n",
       "      <td>4.000000</td>\n",
       "      <td>4.00000</td>\n",
       "      <td>...</td>\n",
       "      <td>3.000000</td>\n",
       "      <td>3.000000</td>\n",
       "      <td>3.000000</td>\n",
       "      <td>3.000000</td>\n",
       "      <td>3.000000</td>\n",
       "      <td>3.000000</td>\n",
       "      <td>3.000000</td>\n",
       "      <td>3.000000</td>\n",
       "      <td>3.000000</td>\n",
       "      <td>1.000000</td>\n",
       "    </tr>\n",
       "    <tr>\n",
       "      <th>max</th>\n",
       "      <td>4.000000</td>\n",
       "      <td>4.000000</td>\n",
       "      <td>4.000000</td>\n",
       "      <td>4.000000</td>\n",
       "      <td>4.000000</td>\n",
       "      <td>4.000000</td>\n",
       "      <td>4.000000</td>\n",
       "      <td>4.000000</td>\n",
       "      <td>4.000000</td>\n",
       "      <td>4.00000</td>\n",
       "      <td>...</td>\n",
       "      <td>4.000000</td>\n",
       "      <td>4.000000</td>\n",
       "      <td>4.000000</td>\n",
       "      <td>4.000000</td>\n",
       "      <td>4.000000</td>\n",
       "      <td>4.000000</td>\n",
       "      <td>4.000000</td>\n",
       "      <td>4.000000</td>\n",
       "      <td>4.000000</td>\n",
       "      <td>1.000000</td>\n",
       "    </tr>\n",
       "  </tbody>\n",
       "</table>\n",
       "<p>8 rows × 58 columns</p>\n",
       "</div>"
      ],
      "text/plain": [
       "                0            1            2            3            4   \\\n",
       "count  2200.000000  2200.000000  2200.000000  2200.000000  2200.000000   \n",
       "mean      2.493182     2.529545     2.506818     2.526818     2.547727   \n",
       "std       1.103943     1.086542     1.098160     1.118780     1.081699   \n",
       "min       1.000000     1.000000     1.000000     1.000000     1.000000   \n",
       "25%       2.000000     2.000000     2.000000     2.000000     2.000000   \n",
       "50%       3.000000     3.000000     3.000000     3.000000     3.000000   \n",
       "75%       3.000000     3.000000     3.000000     4.000000     3.000000   \n",
       "max       4.000000     4.000000     4.000000     4.000000     4.000000   \n",
       "\n",
       "                5            6            7            8           9   \\\n",
       "count  2200.000000  2200.000000  2200.000000  2200.000000  2200.00000   \n",
       "mean      2.492727     2.550000     2.541364     2.553182     2.56500   \n",
       "std       1.099399     1.109818     1.103600     1.126751     1.10822   \n",
       "min       1.000000     1.000000     1.000000     1.000000     1.00000   \n",
       "25%       2.000000     2.000000     2.000000     2.000000     2.00000   \n",
       "50%       3.000000     3.000000     3.000000     3.000000     3.00000   \n",
       "75%       3.000000     4.000000     3.000000     4.000000     4.00000   \n",
       "max       4.000000     4.000000     4.000000     4.000000     4.00000   \n",
       "\n",
       "          ...                48           49           50           51  \\\n",
       "count     ...       2200.000000  2200.000000  2200.000000  2200.000000   \n",
       "mean      ...          2.498636     2.497273     2.439091     2.495909   \n",
       "std       ...          1.104786     1.070499     1.093583     1.087354   \n",
       "min       ...          1.000000     1.000000     1.000000     1.000000   \n",
       "25%       ...          2.000000     2.000000     1.000000     2.000000   \n",
       "50%       ...          3.000000     2.000000     2.000000     2.000000   \n",
       "75%       ...          3.000000     3.000000     3.000000     3.000000   \n",
       "max       ...          4.000000     4.000000     4.000000     4.000000   \n",
       "\n",
       "                52           53           54           55           56  \\\n",
       "count  2200.000000  2200.000000  2200.000000  2200.000000  2200.000000   \n",
       "mean      2.482273     2.435909     2.500455     2.456364     2.512273   \n",
       "std       1.065672     1.089652     1.091952     1.093162     1.086456   \n",
       "min       1.000000     1.000000     1.000000     1.000000     1.000000   \n",
       "25%       2.000000     1.000000     2.000000     2.000000     2.000000   \n",
       "50%       2.000000     2.000000     3.000000     2.000000     3.000000   \n",
       "75%       3.000000     3.000000     3.000000     3.000000     3.000000   \n",
       "max       4.000000     4.000000     4.000000     4.000000     4.000000   \n",
       "\n",
       "                57  \n",
       "count  2200.000000  \n",
       "mean      0.033636  \n",
       "std       0.999661  \n",
       "min      -1.000000  \n",
       "25%      -1.000000  \n",
       "50%       1.000000  \n",
       "75%       1.000000  \n",
       "max       1.000000  \n",
       "\n",
       "[8 rows x 58 columns]"
      ]
     },
     "execution_count": 3,
     "metadata": {},
     "output_type": "execute_result"
    }
   ],
   "source": [
    "df_b.describe()"
   ]
  },
  {
   "cell_type": "markdown",
   "metadata": {},
   "source": [
    "### 1. Preprocess the given data using the Z-score normalization on the data. Justify the choice of Z-score Normalization here, as opposed to min-max normalization. Why do you need normalization in general? Justify why you would normally split the test and training set randomly. What is the distribution of the +1,-1 classes in the dataset?"
   ]
  },
  {
   "cell_type": "markdown",
   "metadata": {},
   "source": [
    "### Preprocess the given data using the Z-score normalization on the data."
   ]
  },
  {
   "cell_type": "code",
   "execution_count": 4,
   "metadata": {},
   "outputs": [
    {
     "data": {
      "text/html": [
       "<div>\n",
       "<style scoped>\n",
       "    .dataframe tbody tr th:only-of-type {\n",
       "        vertical-align: middle;\n",
       "    }\n",
       "\n",
       "    .dataframe tbody tr th {\n",
       "        vertical-align: top;\n",
       "    }\n",
       "\n",
       "    .dataframe thead th {\n",
       "        text-align: right;\n",
       "    }\n",
       "</style>\n",
       "<table border=\"1\" class=\"dataframe\">\n",
       "  <thead>\n",
       "    <tr style=\"text-align: right;\">\n",
       "      <th></th>\n",
       "      <th>0</th>\n",
       "      <th>1</th>\n",
       "      <th>2</th>\n",
       "      <th>3</th>\n",
       "      <th>4</th>\n",
       "      <th>5</th>\n",
       "      <th>6</th>\n",
       "      <th>7</th>\n",
       "      <th>8</th>\n",
       "      <th>9</th>\n",
       "      <th>...</th>\n",
       "      <th>48</th>\n",
       "      <th>49</th>\n",
       "      <th>50</th>\n",
       "      <th>51</th>\n",
       "      <th>52</th>\n",
       "      <th>53</th>\n",
       "      <th>54</th>\n",
       "      <th>55</th>\n",
       "      <th>56</th>\n",
       "      <th>57</th>\n",
       "    </tr>\n",
       "  </thead>\n",
       "  <tbody>\n",
       "    <tr>\n",
       "      <th>0</th>\n",
       "      <td>-1.352898</td>\n",
       "      <td>-0.487479</td>\n",
       "      <td>-1.372441</td>\n",
       "      <td>-0.470994</td>\n",
       "      <td>-1.431156</td>\n",
       "      <td>-0.448281</td>\n",
       "      <td>0.405564</td>\n",
       "      <td>0.415676</td>\n",
       "      <td>0.396645</td>\n",
       "      <td>0.392611</td>\n",
       "      <td>...</td>\n",
       "      <td>0.453914</td>\n",
       "      <td>-0.464630</td>\n",
       "      <td>0.513026</td>\n",
       "      <td>1.383572</td>\n",
       "      <td>-0.452656</td>\n",
       "      <td>-0.400135</td>\n",
       "      <td>-0.458416</td>\n",
       "      <td>-0.417566</td>\n",
       "      <td>-1.392249</td>\n",
       "      <td>1</td>\n",
       "    </tr>\n",
       "    <tr>\n",
       "      <th>1</th>\n",
       "      <td>0.459203</td>\n",
       "      <td>0.433082</td>\n",
       "      <td>1.360021</td>\n",
       "      <td>-0.470994</td>\n",
       "      <td>-1.431156</td>\n",
       "      <td>-0.448281</td>\n",
       "      <td>-0.495689</td>\n",
       "      <td>1.322008</td>\n",
       "      <td>0.396645</td>\n",
       "      <td>-0.509943</td>\n",
       "      <td>...</td>\n",
       "      <td>-1.356803</td>\n",
       "      <td>1.404083</td>\n",
       "      <td>0.513026</td>\n",
       "      <td>1.383572</td>\n",
       "      <td>1.424521</td>\n",
       "      <td>1.435731</td>\n",
       "      <td>-1.374415</td>\n",
       "      <td>0.497419</td>\n",
       "      <td>1.369651</td>\n",
       "      <td>1</td>\n",
       "    </tr>\n",
       "    <tr>\n",
       "      <th>2</th>\n",
       "      <td>1.365253</td>\n",
       "      <td>-1.408039</td>\n",
       "      <td>1.360021</td>\n",
       "      <td>1.317075</td>\n",
       "      <td>1.342890</td>\n",
       "      <td>1.371309</td>\n",
       "      <td>-1.396943</td>\n",
       "      <td>-1.396986</td>\n",
       "      <td>-0.491065</td>\n",
       "      <td>-1.412496</td>\n",
       "      <td>...</td>\n",
       "      <td>-1.356803</td>\n",
       "      <td>-0.464630</td>\n",
       "      <td>-1.316240</td>\n",
       "      <td>-1.376046</td>\n",
       "      <td>1.424521</td>\n",
       "      <td>-0.400135</td>\n",
       "      <td>-0.458416</td>\n",
       "      <td>1.412405</td>\n",
       "      <td>1.369651</td>\n",
       "      <td>1</td>\n",
       "    </tr>\n",
       "    <tr>\n",
       "      <th>3</th>\n",
       "      <td>-1.352898</td>\n",
       "      <td>1.353642</td>\n",
       "      <td>-1.372441</td>\n",
       "      <td>-1.365028</td>\n",
       "      <td>0.418208</td>\n",
       "      <td>0.461514</td>\n",
       "      <td>1.306817</td>\n",
       "      <td>1.322008</td>\n",
       "      <td>0.396645</td>\n",
       "      <td>1.295164</td>\n",
       "      <td>...</td>\n",
       "      <td>-1.356803</td>\n",
       "      <td>0.469726</td>\n",
       "      <td>0.513026</td>\n",
       "      <td>1.383572</td>\n",
       "      <td>-1.391244</td>\n",
       "      <td>0.517798</td>\n",
       "      <td>0.457583</td>\n",
       "      <td>1.412405</td>\n",
       "      <td>-0.471615</td>\n",
       "      <td>-1</td>\n",
       "    </tr>\n",
       "    <tr>\n",
       "      <th>4</th>\n",
       "      <td>0.459203</td>\n",
       "      <td>1.353642</td>\n",
       "      <td>1.360021</td>\n",
       "      <td>0.423041</td>\n",
       "      <td>-1.431156</td>\n",
       "      <td>-1.358075</td>\n",
       "      <td>1.306817</td>\n",
       "      <td>1.322008</td>\n",
       "      <td>1.284354</td>\n",
       "      <td>-1.412496</td>\n",
       "      <td>...</td>\n",
       "      <td>0.453914</td>\n",
       "      <td>-1.398986</td>\n",
       "      <td>0.513026</td>\n",
       "      <td>-0.456173</td>\n",
       "      <td>-1.391244</td>\n",
       "      <td>1.435731</td>\n",
       "      <td>-0.458416</td>\n",
       "      <td>-1.332552</td>\n",
       "      <td>-1.392249</td>\n",
       "      <td>-1</td>\n",
       "    </tr>\n",
       "  </tbody>\n",
       "</table>\n",
       "<p>5 rows × 58 columns</p>\n",
       "</div>"
      ],
      "text/plain": [
       "         0         1         2         3         4         5         6   \\\n",
       "0 -1.352898 -0.487479 -1.372441 -0.470994 -1.431156 -0.448281  0.405564   \n",
       "1  0.459203  0.433082  1.360021 -0.470994 -1.431156 -0.448281 -0.495689   \n",
       "2  1.365253 -1.408039  1.360021  1.317075  1.342890  1.371309 -1.396943   \n",
       "3 -1.352898  1.353642 -1.372441 -1.365028  0.418208  0.461514  1.306817   \n",
       "4  0.459203  1.353642  1.360021  0.423041 -1.431156 -1.358075  1.306817   \n",
       "\n",
       "         7         8         9  ...        48        49        50        51  \\\n",
       "0  0.415676  0.396645  0.392611 ...  0.453914 -0.464630  0.513026  1.383572   \n",
       "1  1.322008  0.396645 -0.509943 ... -1.356803  1.404083  0.513026  1.383572   \n",
       "2 -1.396986 -0.491065 -1.412496 ... -1.356803 -0.464630 -1.316240 -1.376046   \n",
       "3  1.322008  0.396645  1.295164 ... -1.356803  0.469726  0.513026  1.383572   \n",
       "4  1.322008  1.284354 -1.412496 ...  0.453914 -1.398986  0.513026 -0.456173   \n",
       "\n",
       "         52        53        54        55        56  57  \n",
       "0 -0.452656 -0.400135 -0.458416 -0.417566 -1.392249   1  \n",
       "1  1.424521  1.435731 -1.374415  0.497419  1.369651   1  \n",
       "2  1.424521 -0.400135 -0.458416  1.412405  1.369651   1  \n",
       "3 -1.391244  0.517798  0.457583  1.412405 -0.471615  -1  \n",
       "4 -1.391244  1.435731 -0.458416 -1.332552 -1.392249  -1  \n",
       "\n",
       "[5 rows x 58 columns]"
      ]
     },
     "execution_count": 4,
     "metadata": {},
     "output_type": "execute_result"
    }
   ],
   "source": [
    "df_y = df_b[57]\n",
    "df_z = df_b.drop(57, axis=1)\n",
    "#Importing required library:\n",
    "from sklearn.preprocessing import StandardScaler\n",
    "#Instantiating the function\n",
    "z_score_scaler = StandardScaler()\n",
    "\n",
    "z_score_transf = z_score_scaler.fit_transform(df_z)\n",
    "z_score_transf\n",
    "\n",
    "#Preparing dataframe\n",
    "z_score_scaled_features_df = pd.DataFrame(z_score_transf, index=df_z.index, columns=df_z.columns)\n",
    "z_score_scaled_features_df[57]=df_y\n",
    "z_score_scaled_features_df.head()"
   ]
  },
  {
   "cell_type": "markdown",
   "metadata": {},
   "source": [
    "### Justify the choice of Z-score Normalization here, as opposed to min-max normalization. "
   ]
  },
  {
   "cell_type": "markdown",
   "metadata": {},
   "source": [
    "### Ans. Z-score Normalization works well in this scenario since we get consistent mean-centred features with a unit scale variance. Also, our features are almost normally distributed. On the other hand, Min-Max scalar is sensitive to outliers and is used when distribution is non-Gaussian with small variance or standard deviation."
   ]
  },
  {
   "cell_type": "markdown",
   "metadata": {},
   "source": [
    "### Why do you need normalization in general?"
   ]
  },
  {
   "cell_type": "markdown",
   "metadata": {},
   "source": [
    "### Ans. The prime objective of normalization is to change the values of numeric columns in the dataset to a common scale, without distorting differences in the ranges of values. The objective functions of various machine learning classifiers are based on Euclidean distance, so if one of the feature has bigger values, this feature's distance will dominate the other features. As a result, the range of all the features should be changed by normalization so that each feature contributes equally (approx.) to the final distance. Furthermore, gradient descent converges faster with scaled features."
   ]
  },
  {
   "cell_type": "markdown",
   "metadata": {},
   "source": [
    "### Justify why you would normally split the test and training set randomly."
   ]
  },
  {
   "cell_type": "markdown",
   "metadata": {},
   "source": [
    "### Ans. We normally split the test and training set randomly to make sure there is no sampling bias introduced while training the data and testing it later. This also reduces the risk of having an overfitted model in the long run."
   ]
  },
  {
   "cell_type": "markdown",
   "metadata": {},
   "source": [
    "### What is the distribution of the +1,-1 classes in the dataset?¶"
   ]
  },
  {
   "cell_type": "code",
   "execution_count": 5,
   "metadata": {},
   "outputs": [
    {
     "data": {
      "text/plain": [
       "<matplotlib.axes._subplots.AxesSubplot at 0x1caa6233fd0>"
      ]
     },
     "execution_count": 5,
     "metadata": {},
     "output_type": "execute_result"
    },
    {
     "data": {
      "image/png": "[encoded data removed]",
      "text/plain": [
       "<Figure size 432x288 with 1 Axes>"
      ]
     },
     "metadata": {
      "needs_background": "light"
     },
     "output_type": "display_data"
    }
   ],
   "source": [
    "sns.distplot(z_score_scaled_features_df[57])"
   ]
  },
  {
   "cell_type": "code",
   "execution_count": 6,
   "metadata": {},
   "outputs": [
    {
     "data": {
      "text/plain": [
       "<matplotlib.axes._subplots.AxesSubplot at 0x1caa6c980f0>"
      ]
     },
     "execution_count": 6,
     "metadata": {},
     "output_type": "execute_result"
    },
    {
     "data": {
      "image/png": "[encoded data removed]",
      "text/plain": [
       "<Figure size 432x288 with 1 Axes>"
      ]
     },
     "metadata": {
      "needs_background": "light"
     },
     "output_type": "display_data"
    }
   ],
   "source": [
    "z_score_scaled_features_df[57].value_counts().plot(kind='bar')"
   ]
  },
  {
   "cell_type": "code",
   "execution_count": 7,
   "metadata": {},
   "outputs": [
    {
     "data": {
      "text/plain": [
       " 1    1137\n",
       "-1    1063\n",
       "Name: 57, dtype: int64"
      ]
     },
     "execution_count": 7,
     "metadata": {},
     "output_type": "execute_result"
    }
   ],
   "source": [
    "z_score_scaled_features_df[57].value_counts()"
   ]
  },
  {
   "cell_type": "markdown",
   "metadata": {},
   "source": [
    "### Ans. We can say that both the classes are equally distributed without having any majority or minority class. From the distribution plot above we can infer the classes are normally distributed."
   ]
  },
  {
   "cell_type": "markdown",
   "metadata": {},
   "source": [
    "### 2. Parameter Selection:"
   ]
  },
  {
   "cell_type": "markdown",
   "metadata": {},
   "source": [
    "### (a) For k-NN you need to evaluate the best value k to use. Using 5-fold cross validation on the training set evaluate k-NN on the values k=[1, 3, 5, 7, , 31]. The following link can be helpful:  https://scikit-learn.org/stable/modules/cross_validation.html\n",
    "### Plot a figure that shows the relationship between the accuracy and the parameter k. Report the best k in terms of classification accuracy. Explain why you didnt evaluate directly on the test set."
   ]
  },
  {
   "cell_type": "code",
   "execution_count": 8,
   "metadata": {},
   "outputs": [],
   "source": [
    "from sklearn.model_selection import train_test_split\n",
    "X = z_score_scaled_features_df.copy()\n",
    "X.drop(57,axis=1,inplace=True)\n",
    "y = df_y\n",
    "X_train, X_test, y_train, y_test = train_test_split(X, y, test_size=0.3, random_state=101)"
   ]
  },
  {
   "cell_type": "code",
   "execution_count": 9,
   "metadata": {},
   "outputs": [],
   "source": [
    "from sklearn.model_selection import cross_val_score\n",
    "from sklearn.neighbors import KNeighborsClassifier\n",
    "Accuracy_kNN = []\n",
    "for i in range(1,33,2):\n",
    "    kNN = KNeighborsClassifier(n_neighbors=i)\n",
    "    scores = cross_val_score(kNN, X_train, y_train, cv=5, scoring='accuracy')\n",
    "    Accuracy_kNN.append(np.average(scores))                                              "
   ]
  },
  {
   "cell_type": "code",
   "execution_count": 10,
   "metadata": {},
   "outputs": [
    {
     "data": {
      "text/plain": [
       "Text(0, 0.5, 'Accuracy')"
      ]
     },
     "execution_count": 10,
     "metadata": {},
     "output_type": "execute_result"
    },
    {
     "data": {
      "image/png": "[encoded data removed]",
      "text/plain": [
       "<Figure size 720x432 with 1 Axes>"
      ]
     },
     "metadata": {
      "needs_background": "light"
     },
     "output_type": "display_data"
    }
   ],
   "source": [
    "#Plotting K with Accuracy rate:\n",
    "plt.figure(figsize=(10,6))\n",
    "plt.plot(range(1,33,2),Accuracy_kNN,color='blue',linestyle='dashed',marker='o',\n",
    "        markerfacecolor='red',markersize=10)\n",
    "plt.title('Accuracy vs K Value')\n",
    "plt.xlabel('K')\n",
    "plt.ylabel('Accuracy')"
   ]
  },
  {
   "cell_type": "markdown",
   "metadata": {},
   "source": [
    "### Ans. Best k in terms of classification accuracy is k=5.\n",
    "### We didn't evaluate directly on the test set because there is always a risk of overfitting on the test set i.e. knowledge about test set can hamper the model and the evaluation metric would no longer report on a generalizated scale."
   ]
  },
  {
   "cell_type": "markdown",
   "metadata": {},
   "source": [
    "### (b) For the RBF kernel SVM, there are two parameters to be decided: the soft margin penalty term \"c\" and the kernel width parameter \"sigma\". Again use 5-fold cross validation on the training set to select the parameter \"c\" from the set [0.1, 0.5, 1, 2, 5,10, 20, 50] and select the parameter \"sigma\" from the set [0.01, 0.05, 0.1, 0.5, 1, 2, 5, 10]. Report the best parameters in terms of classi\f",
    "cation accuracy including plotting the ROC curves."
   ]
  },
  {
   "cell_type": "code",
   "execution_count": 11,
   "metadata": {},
   "outputs": [],
   "source": [
    "from sklearn.svm import SVC\n",
    "svm_rbf = SVC(kernel='linear',random_state=0)"
   ]
  },
  {
   "cell_type": "code",
   "execution_count": 12,
   "metadata": {},
   "outputs": [],
   "source": [
    "from sklearn.model_selection import GridSearchCV\n",
    "paramters = [{'C':[0.1, 0.5, 1, 2, 5,10, 20, 50],'kernel':['rbf'],'gamma':[0.01, 0.05, 0.1, 0.5, 1, 2, 5, 10]}]"
   ]
  },
  {
   "cell_type": "code",
   "execution_count": 13,
   "metadata": {},
   "outputs": [],
   "source": [
    "grid_search = GridSearchCV(estimator=svm_rbf,param_grid=paramters,scoring='accuracy',cv=5,n_jobs=-1)\n",
    "grid_search_model = grid_search.fit(X_train,y_train)\n",
    "accuracy_grid = grid_search.best_score_"
   ]
  },
  {
   "cell_type": "code",
   "execution_count": 14,
   "metadata": {},
   "outputs": [
    {
     "data": {
      "text/plain": [
       "0.9032467532467533"
      ]
     },
     "execution_count": 14,
     "metadata": {},
     "output_type": "execute_result"
    }
   ],
   "source": [
    "accuracy_grid"
   ]
  },
  {
   "cell_type": "code",
   "execution_count": 15,
   "metadata": {},
   "outputs": [
    {
     "data": {
      "text/plain": [
       "{'C': 10, 'gamma': 0.01, 'kernel': 'rbf'}"
      ]
     },
     "execution_count": 15,
     "metadata": {},
     "output_type": "execute_result"
    }
   ],
   "source": [
    "# Best parameter in terms of classification accuracy:\n",
    "grid_search_model.best_params_"
   ]
  },
  {
   "cell_type": "code",
   "execution_count": 16,
   "metadata": {},
   "outputs": [
    {
     "data": {
      "text/plain": [
       "SVC(C=10, cache_size=200, class_weight=None, coef0=0.0,\n",
       "  decision_function_shape='ovr', degree=3, gamma=0.01, kernel='rbf',\n",
       "  max_iter=-1, probability=False, random_state=0, shrinking=True,\n",
       "  tol=0.001, verbose=False)"
      ]
     },
     "execution_count": 16,
     "metadata": {},
     "output_type": "execute_result"
    }
   ],
   "source": [
    "from sklearn.svm import SVC\n",
    "svm_rbf_final = SVC(kernel='rbf',C=10,gamma=0.01,random_state=0)\n",
    "svm_rbf_final.fit(X_train,y_train)"
   ]
  },
  {
   "cell_type": "code",
   "execution_count": 17,
   "metadata": {},
   "outputs": [
    {
     "name": "stdout",
     "output_type": "stream",
     "text": [
      "0.896969696969697\n"
     ]
    }
   ],
   "source": [
    "pred_svm = svm_rbf_final.predict(X_test)\n",
    "from sklearn.metrics import accuracy_score\n",
    "print(accuracy_score(y_test,pred_svm))"
   ]
  },
  {
   "cell_type": "code",
   "execution_count": 18,
   "metadata": {},
   "outputs": [
    {
     "data": {
      "text/plain": [
       "(array([0.        , 0.08411215, 1.        ]),\n",
       " array([0.        , 0.87905605, 1.        ]),\n",
       " array([ 2,  1, -1], dtype=int64))"
      ]
     },
     "execution_count": 18,
     "metadata": {},
     "output_type": "execute_result"
    }
   ],
   "source": [
    "#Roc curve:\n",
    "from sklearn.metrics import roc_curve\n",
    "roc_curve(y_test,pred_svm)"
   ]
  },
  {
   "cell_type": "code",
   "execution_count": 19,
   "metadata": {},
   "outputs": [
    {
     "data": {
      "text/plain": [
       "<matplotlib.legend.Legend at 0x1caa8050390>"
      ]
     },
     "execution_count": 19,
     "metadata": {},
     "output_type": "execute_result"
    },
    {
     "data": {
      "image/png": "[encoded data removed]",
      "text/plain": [
       "<Figure size 432x288 with 1 Axes>"
      ]
     },
     "metadata": {
      "needs_background": "light"
     },
     "output_type": "display_data"
    }
   ],
   "source": [
    "from sklearn.metrics import roc_curve\n",
    "from sklearn.metrics import auc\n",
    "\n",
    "# Compute fpr, tpr, thresholds and roc auc\n",
    "fpr, tpr, thresholds = roc_curve(pred_svm,y_test)\n",
    "roc_auc = auc(fpr, tpr)\n",
    "\n",
    "# Plot ROC curve\n",
    "plt.plot(fpr, tpr, label='ROC curve (area = %0.3f)' % roc_auc)\n",
    "plt.plot([0, 1], [0, 1], 'k--')  # random predictions curve\n",
    "plt.xlim([0.0, 1.0])\n",
    "plt.ylim([0.0, 1.0])\n",
    "plt.xlabel('False Positive Rate or (1 - Specifity)')\n",
    "plt.ylabel('True Positive Rate or (Sensitivity)')\n",
    "plt.title('Receiver Operating Characteristic')\n",
    "plt.legend(loc=\"lower right\")"
   ]
  },
  {
   "cell_type": "markdown",
   "metadata": {},
   "source": [
    "### 3. Train (at least) six classifiers and report the results:\n",
    "### (a) Classify the test set using k-NN, SVM, Random Forests and Neural Networks. Use the chosen parameters from the parameter selection process in question 2 for k-NN and SVM. For the next two classifiers use the default setups listed at the end for Random Forests and Neural Networks."
   ]
  },
  {
   "cell_type": "code",
   "execution_count": 20,
   "metadata": {},
   "outputs": [
    {
     "data": {
      "text/plain": [
       "0.7363677366033394"
      ]
     },
     "execution_count": 20,
     "metadata": {},
     "output_type": "execute_result"
    }
   ],
   "source": [
    "#Training kNN with K=3 selected from question 2:\n",
    "kNN_3 = KNeighborsClassifier(n_neighbors=5)\n",
    "scores_3 = cross_val_score(kNN_3, X_train, y_train, cv=5, scoring='accuracy')\n",
    "np.average(scores_3)"
   ]
  },
  {
   "cell_type": "code",
   "execution_count": 21,
   "metadata": {},
   "outputs": [
    {
     "name": "stdout",
     "output_type": "stream",
     "text": [
      "              precision    recall  f1-score   support\n",
      "\n",
      "          -1       0.66      0.95      0.78       321\n",
      "           1       0.92      0.54      0.68       339\n",
      "\n",
      "   micro avg       0.74      0.74      0.74       660\n",
      "   macro avg       0.79      0.75      0.73       660\n",
      "weighted avg       0.80      0.74      0.73       660\n",
      "\n",
      "0.740909090909091\n"
     ]
    }
   ],
   "source": [
    "kNN_3.fit(X_train, y_train)\n",
    "pred_kNN_3 =kNN_3.predict(X_test)\n",
    "from sklearn.metrics import classification_report\n",
    "from sklearn.metrics import accuracy_score\n",
    "print(classification_report(y_test,pred_kNN_3))\n",
    "print(accuracy_score(y_test,pred_kNN_3))"
   ]
  },
  {
   "cell_type": "code",
   "execution_count": 22,
   "metadata": {},
   "outputs": [
    {
     "data": {
      "text/plain": [
       "SVC(C=10, cache_size=200, class_weight=None, coef0=0.0,\n",
       "  decision_function_shape='ovr', degree=3, gamma=0.01, kernel='rbf',\n",
       "  max_iter=-1, probability=False, random_state=0, shrinking=True,\n",
       "  tol=0.001, verbose=False)"
      ]
     },
     "execution_count": 22,
     "metadata": {},
     "output_type": "execute_result"
    }
   ],
   "source": [
    "#Training SVM with kernel='rbf', C=10, gamma=0.01 \n",
    "from sklearn.svm import SVC\n",
    "svm_rbf = SVC(kernel='rbf',C=10,gamma=0.01,random_state=0)\n",
    "svm_rbf.fit(X_train,y_train)"
   ]
  },
  {
   "cell_type": "code",
   "execution_count": 23,
   "metadata": {},
   "outputs": [
    {
     "name": "stdout",
     "output_type": "stream",
     "text": [
      "              precision    recall  f1-score   support\n",
      "\n",
      "          -1       0.88      0.92      0.90       321\n",
      "           1       0.92      0.88      0.90       339\n",
      "\n",
      "   micro avg       0.90      0.90      0.90       660\n",
      "   macro avg       0.90      0.90      0.90       660\n",
      "weighted avg       0.90      0.90      0.90       660\n",
      "\n",
      "0.896969696969697\n"
     ]
    }
   ],
   "source": [
    "pred_svm_pre = svm_rbf.predict(X_test)\n",
    "from sklearn.metrics import classification_report\n",
    "from sklearn.metrics import accuracy_score\n",
    "print(classification_report(y_test,pred_svm_pre))\n",
    "print(accuracy_score(y_test,pred_svm_pre))"
   ]
  },
  {
   "cell_type": "code",
   "execution_count": 24,
   "metadata": {},
   "outputs": [
    {
     "data": {
      "text/plain": [
       "RandomForestClassifier(bootstrap=True, class_weight=None, criterion='gini',\n",
       "            max_depth=None, max_features='auto', max_leaf_nodes=None,\n",
       "            min_impurity_decrease=0.0, min_impurity_split=None,\n",
       "            min_samples_leaf=1, min_samples_split=2,\n",
       "            min_weight_fraction_leaf=0.0, n_estimators=10, n_jobs=None,\n",
       "            oob_score=False, random_state=None, verbose=0,\n",
       "            warm_start=False)"
      ]
     },
     "execution_count": 24,
     "metadata": {},
     "output_type": "execute_result"
    }
   ],
   "source": [
    "#Training Random Forest with default paramters:\n",
    "from sklearn.ensemble import RandomForestClassifier\n",
    "clf_rand = RandomForestClassifier()\n",
    "clf_rand.fit(X_train, y_train)"
   ]
  },
  {
   "cell_type": "code",
   "execution_count": 25,
   "metadata": {},
   "outputs": [
    {
     "name": "stdout",
     "output_type": "stream",
     "text": [
      "              precision    recall  f1-score   support\n",
      "\n",
      "          -1       0.90      0.97      0.93       321\n",
      "           1       0.97      0.90      0.93       339\n",
      "\n",
      "   micro avg       0.93      0.93      0.93       660\n",
      "   macro avg       0.93      0.93      0.93       660\n",
      "weighted avg       0.93      0.93      0.93       660\n",
      "\n",
      "0.9318181818181818\n"
     ]
    }
   ],
   "source": [
    "pred_random = clf_rand.predict(X_test)\n",
    "from sklearn.metrics import classification_report\n",
    "from sklearn.metrics import accuracy_score\n",
    "print(classification_report(y_test,pred_random))\n",
    "print(accuracy_score(y_test,pred_random))"
   ]
  },
  {
   "cell_type": "code",
   "execution_count": 112,
   "metadata": {},
   "outputs": [
    {
     "data": {
      "text/plain": [
       "MLPClassifier(activation='relu', alpha=0.0001, batch_size='auto', beta_1=0.9,\n",
       "       beta_2=0.999, early_stopping=False, epsilon=1e-08,\n",
       "       hidden_layer_sizes=(100,), learning_rate='constant',\n",
       "       learning_rate_init=0.001, max_iter=200, momentum=0.9,\n",
       "       n_iter_no_change=10, nesterovs_momentum=True, power_t=0.5,\n",
       "       random_state=None, shuffle=True, solver='adam', tol=0.0001,\n",
       "       validation_fraction=0.1, verbose=False, warm_start=False)"
      ]
     },
     "execution_count": 112,
     "metadata": {},
     "output_type": "execute_result"
    }
   ],
   "source": [
    "#Training default neural network:\n",
    "from sklearn.neural_network import MLPClassifier\n",
    "clf_neural = MLPClassifier()\n",
    "clf_neural.fit(X_train, y_train) "
   ]
  },
  {
   "cell_type": "code",
   "execution_count": 113,
   "metadata": {},
   "outputs": [
    {
     "name": "stdout",
     "output_type": "stream",
     "text": [
      "              precision    recall  f1-score   support\n",
      "\n",
      "          -1       0.86      0.90      0.88       531\n",
      "           1       0.91      0.86      0.88       568\n",
      "\n",
      "   micro avg       0.88      0.88      0.88      1099\n",
      "   macro avg       0.88      0.88      0.88      1099\n",
      "weighted avg       0.88      0.88      0.88      1099\n",
      "\n",
      "0.8798908098271155\n"
     ]
    }
   ],
   "source": [
    "pred_Neural = clf_neural.predict(X_test)\n",
    "from sklearn.metrics import classification_report\n",
    "from sklearn.metrics import accuracy_score\n",
    "print(classification_report(y_test,pred_Neural))\n",
    "print(accuracy_score(y_test,pred_Neural))"
   ]
  },
  {
   "cell_type": "markdown",
   "metadata": {},
   "source": [
    "### (b) For the fifth and sixth classifiers, you should explore the parameters of the Random Forests and Neural Network models to devise your own classifier instance that does better than the other methods. For example, you could consider a deeper neural network with multiple layers, use different optimization/solver algorithms, you could modify the Random Forests using different parameter settings for depth and number of trees or enable boosting. Play around with options and choose a setting for RFs and NNs that performs better."
   ]
  },
  {
   "cell_type": "code",
   "execution_count": 64,
   "metadata": {},
   "outputs": [
    {
     "name": "stdout",
     "output_type": "stream",
     "text": [
      "{'bootstrap': [True, False],\n",
      " 'max_depth': [10, 30, 50, None],\n",
      " 'max_features': ['auto', 'sqrt'],\n",
      " 'min_samples_leaf': [1, 2],\n",
      " 'min_samples_split': [2, 5],\n",
      " 'n_estimators': [200, 400, 600, 800]}\n"
     ]
    }
   ],
   "source": [
    "#Random Forests\n",
    "from pprint import pprint\n",
    "from sklearn.model_selection import GridSearchCV\n",
    "# Number of trees in random forest\n",
    "n_estimators = [int(x) for x in np.linspace(start = 200, stop =800 , num = 4)]\n",
    "# Number of features to consider at every split\n",
    "max_features = ['auto', 'sqrt']\n",
    "# Maximum number of levels in tree\n",
    "max_depth = [int(x) for x in np.linspace(10, 50, num = 3)]\n",
    "max_depth.append(None)\n",
    "# Minimum number of samples required to split a node\n",
    "min_samples_split = [2, 5]\n",
    "# Minimum number of samples required at each leaf node\n",
    "min_samples_leaf = [1, 2]\n",
    "# Create the random grid\n",
    "random_grid = {'n_estimators': n_estimators,\n",
    "               'max_features': max_features,\n",
    "               'max_depth': max_depth,\n",
    "               'min_samples_split': min_samples_split,\n",
    "               'min_samples_leaf': min_samples_leaf,\n",
    "               'bootstrap': bootstrap}\n",
    "pprint(random_grid)"
   ]
  },
  {
   "cell_type": "code",
   "execution_count": 65,
   "metadata": {},
   "outputs": [
    {
     "name": "stdout",
     "output_type": "stream",
     "text": [
      "Fitting 3 folds for each of 256 candidates, totalling 768 fits\n"
     ]
    },
    {
     "name": "stderr",
     "output_type": "stream",
     "text": [
      "[Parallel(n_jobs=-1)]: Using backend LokyBackend with 4 concurrent workers.\n",
      "[Parallel(n_jobs=-1)]: Done  33 tasks      | elapsed:   24.2s\n",
      "[Parallel(n_jobs=-1)]: Done 154 tasks      | elapsed:  1.7min\n",
      "[Parallel(n_jobs=-1)]: Done 357 tasks      | elapsed:  4.0min\n",
      "[Parallel(n_jobs=-1)]: Done 640 tasks      | elapsed:  7.7min\n",
      "[Parallel(n_jobs=-1)]: Done 768 out of 768 | elapsed:  9.4min finished\n"
     ]
    },
    {
     "data": {
      "text/plain": [
       "GridSearchCV(cv=3, error_score='raise-deprecating',\n",
       "       estimator=RandomForestClassifier(bootstrap=True, class_weight=None, criterion='gini',\n",
       "            max_depth=None, max_features='auto', max_leaf_nodes=None,\n",
       "            min_impurity_decrease=0.0, min_impurity_split=None,\n",
       "            min_samples_leaf=1, min_samples_split=2,\n",
       "            min_weight_fraction_leaf=0.0, n_estimators='warn', n_jobs=None,\n",
       "            oob_score=False, random_state=None, verbose=0,\n",
       "            warm_start=False),\n",
       "       fit_params=None, iid='warn', n_jobs=-1,\n",
       "       param_grid={'n_estimators': [200, 400, 600, 800], 'max_features': ['auto', 'sqrt'], 'max_depth': [10, 30, 50, None], 'min_samples_split': [2, 5], 'min_samples_leaf': [1, 2], 'bootstrap': [True, False]},\n",
       "       pre_dispatch='2*n_jobs', refit=True, return_train_score='warn',\n",
       "       scoring=None, verbose=2)"
      ]
     },
     "execution_count": 65,
     "metadata": {},
     "output_type": "execute_result"
    }
   ],
   "source": [
    "# Use the random grid to search for best hyperparameters\n",
    "from sklearn.ensemble import RandomForestRegressor\n",
    "# First create the base model to tune\n",
    "clf_rand = RandomForestClassifier()\n",
    "# Random search of parameters, using 3 fold cross validation, \n",
    "# search across 100 different combinations, and use all available cores\n",
    "rf_random = GridSearchCV(estimator = clf_rand, param_grid = random_grid, cv = 3, verbose=2, n_jobs = -1)\n",
    "# Fit the random search model\n",
    "rf_random.fit(X_train, y_train)\n"
   ]
  },
  {
   "cell_type": "code",
   "execution_count": 66,
   "metadata": {},
   "outputs": [
    {
     "data": {
      "text/plain": [
       "{'bootstrap': False,\n",
       " 'max_depth': 10,\n",
       " 'max_features': 'auto',\n",
       " 'min_samples_leaf': 1,\n",
       " 'min_samples_split': 5,\n",
       " 'n_estimators': 200}"
      ]
     },
     "execution_count": 66,
     "metadata": {},
     "output_type": "execute_result"
    }
   ],
   "source": [
    "rf_random.best_params_"
   ]
  },
  {
   "cell_type": "code",
   "execution_count": 29,
   "metadata": {},
   "outputs": [
    {
     "name": "stdout",
     "output_type": "stream",
     "text": [
      "              precision    recall  f1-score   support\n",
      "\n",
      "          -1       0.95      0.98      0.97       321\n",
      "           1       0.98      0.95      0.97       339\n",
      "\n",
      "   micro avg       0.97      0.97      0.97       660\n",
      "   macro avg       0.97      0.97      0.97       660\n",
      "weighted avg       0.97      0.97      0.97       660\n",
      "\n",
      "0.9666666666666667\n"
     ]
    }
   ],
   "source": [
    "#Tune 1\n",
    "clf_tune1 = RandomForestClassifier(bootstrap= True, max_depth= 10, max_features= 'auto', min_samples_leaf= 1, min_samples_split= 5, n_estimators= 200)\n",
    "clf_tune1.fit(X_train, y_train)\n",
    "pred_random = clf_tune1.predict(X_test)\n",
    "print(classification_report(y_test,pred_random))\n",
    "print(accuracy_score(y_test,pred_random))"
   ]
  },
  {
   "cell_type": "code",
   "execution_count": 30,
   "metadata": {},
   "outputs": [
    {
     "name": "stdout",
     "output_type": "stream",
     "text": [
      "              precision    recall  f1-score   support\n",
      "\n",
      "          -1       0.96      0.98      0.97       321\n",
      "           1       0.98      0.96      0.97       339\n",
      "\n",
      "   micro avg       0.97      0.97      0.97       660\n",
      "   macro avg       0.97      0.97      0.97       660\n",
      "weighted avg       0.97      0.97      0.97       660\n",
      "\n",
      "0.9712121212121212\n"
     ]
    }
   ],
   "source": [
    "#Boosting:\n",
    "from sklearn.ensemble import RandomForestClassifier, AdaBoostClassifier\n",
    "clf_ada = AdaBoostClassifier(base_estimator=clf_tune1,n_estimators=100,\n",
    "                         learning_rate=1,\n",
    "                         random_state=0)\n",
    "clf_ada.fit(X_train, y_train)\n",
    "pred_random = clf_ada.predict(X_test)\n",
    "print(classification_report(y_test,pred_random))\n",
    "print(accuracy_score(y_test,pred_random))"
   ]
  },
  {
   "cell_type": "code",
   "execution_count": null,
   "metadata": {},
   "outputs": [],
   "source": [
    "#Neural Network:"
   ]
  },
  {
   "cell_type": "code",
   "execution_count": 30,
   "metadata": {},
   "outputs": [
    {
     "data": {
      "text/plain": [
       "MLPClassifier(activation='relu', alpha=0.0001, batch_size='auto', beta_1=0.9,\n",
       "       beta_2=0.999, early_stopping=False, epsilon=1e-08,\n",
       "       hidden_layer_sizes=(100,), learning_rate='constant',\n",
       "       learning_rate_init=0.001, max_iter=200, momentum=0.9,\n",
       "       n_iter_no_change=10, nesterovs_momentum=True, power_t=0.5,\n",
       "       random_state=None, shuffle=True, solver='adam', tol=0.0001,\n",
       "       validation_fraction=0.1, verbose=False, warm_start=False)"
      ]
     },
     "execution_count": 30,
     "metadata": {},
     "output_type": "execute_result"
    }
   ],
   "source": []
  },
  {
   "cell_type": "code",
   "execution_count": 88,
   "metadata": {},
   "outputs": [],
   "source": [
    "from sklearn.model_selection import GridSearchCV\n",
    "# Create the parameter grid based on the results of random search \n",
    "param_grid = {\n",
    "    'hidden_layer_sizes' : [(50,30,20),(57,57,57),(57,57,57,57,57),(60,45,30,15)],\n",
    "    'activation' : ['identity', 'logistic', 'tanh', 'relu'],\n",
    "    'solver' : ['lbfgs', 'sgd', 'adam'],\n",
    "    'alpha' : [0.0001,0.00001,0.000001],\n",
    "    'learning_rate' : ['constant', 'invscaling', 'adaptive']\n",
    "        }\n"
   ]
  },
  {
   "cell_type": "code",
   "execution_count": 86,
   "metadata": {},
   "outputs": [
    {
     "name": "stdout",
     "output_type": "stream",
     "text": [
      "Fitting 3 folds for each of 432 candidates, totalling 1296 fits\n"
     ]
    },
    {
     "name": "stderr",
     "output_type": "stream",
     "text": [
      "[Parallel(n_jobs=-1)]: Using backend LokyBackend with 4 concurrent workers.\n",
      "[Parallel(n_jobs=-1)]: Done  33 tasks      | elapsed:   24.4s\n",
      "[Parallel(n_jobs=-1)]: Done 154 tasks      | elapsed:   42.4s\n",
      "[Parallel(n_jobs=-1)]: Done 357 tasks      | elapsed:  1.4min\n",
      "[Parallel(n_jobs=-1)]: Done 640 tasks      | elapsed:  2.6min\n",
      "[Parallel(n_jobs=-1)]: Done 1005 tasks      | elapsed:  4.2min\n",
      "[Parallel(n_jobs=-1)]: Done 1296 out of 1296 | elapsed:  5.4min finished\n",
      "C:\\Users\\horizon\\Anaconda3\\lib\\site-packages\\sklearn\\model_selection\\_search.py:841: DeprecationWarning: The default of the `iid` parameter will change from True to False in version 0.22 and will be removed in 0.24. This will change numeric results when test-set sizes are unequal.\n",
      "  DeprecationWarning)\n"
     ]
    }
   ],
   "source": [
    "\n",
    "grid_search = GridSearchCV(estimator = clf_neural, param_grid = param_grid, \n",
    "                          cv = 3, n_jobs = -1, verbose = 2)\n",
    "# Fit the grid search to the data\n",
    "grid_search.fit(X_train, y_train)\n",
    "grid_search.best_params_\n",
    "best_grid = grid_search.best_estimator_\n"
   ]
  },
  {
   "cell_type": "code",
   "execution_count": null,
   "metadata": {},
   "outputs": [],
   "source": [
    "grid_accuracy = evaluate(best_grid,X_test, y_test)"
   ]
  },
  {
   "cell_type": "code",
   "execution_count": 114,
   "metadata": {},
   "outputs": [
    {
     "name": "stdout",
     "output_type": "stream",
     "text": [
      "MLPClassifier(activation='relu', alpha=1e-05, batch_size='auto', beta_1=0.9,\n",
      "       beta_2=0.999, early_stopping=False, epsilon=1e-08,\n",
      "       hidden_layer_sizes=(57, 57, 57), learning_rate='constant',\n",
      "       learning_rate_init=0.001, max_iter=200, momentum=0.9,\n",
      "       n_iter_no_change=10, nesterovs_momentum=True, power_t=0.5,\n",
      "       random_state=None, shuffle=True, solver='lbfgs', tol=0.0001,\n",
      "       validation_fraction=0.1, verbose=False, warm_start=False)\n"
     ]
    }
   ],
   "source": [
    "print(best_grid)"
   ]
  },
  {
   "cell_type": "code",
   "execution_count": 115,
   "metadata": {},
   "outputs": [
    {
     "name": "stdout",
     "output_type": "stream",
     "text": [
      "              precision    recall  f1-score   support\n",
      "\n",
      "          -1       0.88      0.89      0.89       531\n",
      "           1       0.90      0.89      0.89       568\n",
      "\n",
      "   micro avg       0.89      0.89      0.89      1099\n",
      "   macro avg       0.89      0.89      0.89      1099\n",
      "weighted avg       0.89      0.89      0.89      1099\n",
      "\n",
      "0.8898999090081893\n"
     ]
    }
   ],
   "source": [
    "clf_neural = MLPClassifier(activation='relu', alpha=1e-05, batch_size='auto', beta_1=0.9,\n",
    "       beta_2=0.999, early_stopping=False, epsilon=1e-08,\n",
    "       hidden_layer_sizes=(57,57,57), learning_rate='invscaling',\n",
    "       learning_rate_init=0.001, max_iter=200, momentum=0.9,\n",
    "       n_iter_no_change=10, nesterovs_momentum=True, power_t=0.5,\n",
    "       random_state=None, shuffle=True, solver='lbfgs', tol=0.0001,\n",
    "       validation_fraction=0.1, verbose=False, warm_start=False)\n",
    "clf_neural.fit(X_train, y_train) \n",
    "pred_Neural = clf_neural.predict(X_test)\n",
    "from sklearn.metrics import classification_report\n",
    "from sklearn.metrics import accuracy_score\n",
    "print(classification_report(y_test,pred_Neural))\n",
    "print(accuracy_score(y_test,pred_Neural))"
   ]
  },
  {
   "cell_type": "code",
   "execution_count": 117,
   "metadata": {
    "scrolled": true
   },
   "outputs": [
    {
     "name": "stdout",
     "output_type": "stream",
     "text": [
      "KNN\n",
      "SVC\n",
      "Random Forest(Default)\n",
      "Neural Networ(Default)\n",
      "Random Forest(Optimal)\n",
      "Neural Networ(Optimal)\n"
     ]
    }
   ],
   "source": [
    "from sklearn.model_selection import cross_validate\n",
    "from sklearn.metrics import recall_score\n",
    "from sklearn.model_selection import RepeatedStratifiedKFold\n",
    "# perform repeated cross validation\n",
    "\n",
    "models = []\n",
    "param=[]\n",
    "lst1=[]\n",
    "lst2=[]\n",
    "lst3=[]\n",
    "lst4=[]\n",
    "lst5=[]\n",
    "lst6=[]\n",
    "models.append((lst1,\"KNN\",KNeighborsClassifier(n_neighbors=5)))\n",
    "models.append((lst2,\"SVC\",SVC(kernel='rbf',C=10,gamma=0.01,random_state=0)))\n",
    "models.append((lst3,\"Random Forest(Default)\",RandomForestClassifier(n_estimators=100, max_depth=2,random_state=0)))\n",
    "models.append((lst4,\"Neural Networ(Default)\",MLPClassifier(activation='relu',solver='adam', alpha=0.0001,hidden_layer_sizes=(100,), random_state=None)))\n",
    "models.append((lst5,\"Random Forest(Optimal)\",RandomForestClassifier(n_estimators=1400, min_samples_split=2, min_samples_leaf=1,max_features= 3,max_depth= 100,bootstrap= True)))\n",
    "models.append((lst6,\"Neural Networ(Optimal)\",MLPClassifier(activation='relu', alpha=1e-05, batch_size='auto', beta_1=0.9,beta_2=0.999, early_stopping=False, epsilon=1e-08,hidden_layer_sizes=(57, 57, 57), learning_rate='constant',       learning_rate_init=0.001, max_iter=200, momentum=0.9,       n_iter_no_change=10, nesterovs_momentum=True, power_t=0.5,       random_state=None, shuffle=True, solver='lbfgs', tol=0.0001,validation_fraction=0.1, verbose=False, warm_start=False)))\n",
    "\n",
    "rskf = RepeatedStratifiedKFold(n_splits=2, n_repeats=20,random_state=101)\n",
    "\n",
    "names = []\n",
    "param=[]\n",
    "for param,name,model in models:\n",
    "    for train_index, test_index in rskf.split(X, y):\n",
    "        X_train, X_test = X.iloc[train_index], X.iloc[test_index]\n",
    "        y_train, y_test = y.iloc[train_index], y.iloc[test_index]\n",
    "        scoring = ['precision_macro', 'recall_macro','accuracy','f1']\n",
    "        scores = cross_validate(model, X_train, y_train, cv=5, scoring=scoring)\n",
    "        sorted(scores.keys())\n",
    "        #lst.append([(\"%0.2f (+/- %0.2f)\" % (scores['test_accuracy'].mean(), scores['test_accuracy'].std() * 2))],[(\"%0.2f (+/- %0.2f)\" % (scores['test_precision_macro'].mean(), scores['test_precision_macro'].std() * 2))],[(\"%0.2f (+/- %0.2f)\" % (scores['test_recall_macro'].mean(), scores['test_recall_macro'].std() * 2))],[(\"%0.2f (+/- %0.2f)\" % (scores['test_f1'].mean(), scores['test_f1'].std() * 2))],[(\"%0.2f (+/- %0.2f)\" % (scores['fit_time'].mean(), scores['fit_time'].std() * 2))],[(\"%0.2f (+/- %0.2f)\" % (scores['score_time'].mean(), scores['score_time'].std() * 2))])\n",
    "    param.append([(\"%0.2f (+/- %0.2f)\" % (scores['test_accuracy'].mean(), scores['test_accuracy'].std() * 2))])\n",
    "    param.append([(\"%0.2f (+/- %0.2f)\" % (scores['test_precision_macro'].mean(), scores['test_precision_macro'].std() * 2))])\n",
    "    param.append([(\"%0.2f (+/- %0.2f)\" % (scores['test_recall_macro'].mean(), scores['test_recall_macro'].std() * 2))])\n",
    "    param.append([(\"%0.2f (+/- %0.2f)\" % (scores['test_f1'].mean(), scores['test_f1'].std() * 2))])\n",
    "    param.append([(\"%0.2f (+/- %0.2f)\" % (scores['fit_time'].mean(), scores['fit_time'].std() * 2))])\n",
    "    param.append([(\"%0.2f (+/- %0.2f)\" % (scores['score_time'].mean(), scores['score_time'].std() * 2))])\n",
    "    #metric_df=pd.DataFrame(lstq)\n",
    "    names.append(name)\n",
    "\n",
    "for i in range(len(names)):\n",
    "    print(names[i])"
   ]
  },
  {
   "cell_type": "code",
   "execution_count": 118,
   "metadata": {},
   "outputs": [
    {
     "data": {
      "text/html": [
       "<div>\n",
       "<style scoped>\n",
       "    .dataframe tbody tr th:only-of-type {\n",
       "        vertical-align: middle;\n",
       "    }\n",
       "\n",
       "    .dataframe tbody tr th {\n",
       "        vertical-align: top;\n",
       "    }\n",
       "\n",
       "    .dataframe thead th {\n",
       "        text-align: right;\n",
       "    }\n",
       "</style>\n",
       "<table border=\"1\" class=\"dataframe\">\n",
       "  <thead>\n",
       "    <tr style=\"text-align: right;\">\n",
       "      <th></th>\n",
       "      <th>Parameters</th>\n",
       "      <th>KNN</th>\n",
       "      <th>SVM</th>\n",
       "      <th>Random Forest(Default)</th>\n",
       "      <th>Neural Network(Default)</th>\n",
       "      <th>Random Forest(Tuned)</th>\n",
       "      <th>Neural Network(Tuned)</th>\n",
       "    </tr>\n",
       "  </thead>\n",
       "  <tbody>\n",
       "    <tr>\n",
       "      <th>0</th>\n",
       "      <td>accuracy</td>\n",
       "      <td>[0.71 (+/- 0.02)]</td>\n",
       "      <td>[0.88 (+/- 0.06)]</td>\n",
       "      <td>[0.91 (+/- 0.05)]</td>\n",
       "      <td>[0.87 (+/- 0.06)]</td>\n",
       "      <td>[0.95 (+/- 0.04)]</td>\n",
       "      <td>[0.87 (+/- 0.09)]</td>\n",
       "    </tr>\n",
       "    <tr>\n",
       "      <th>1</th>\n",
       "      <td>precision</td>\n",
       "      <td>[0.77 (+/- 0.01)]</td>\n",
       "      <td>[0.88 (+/- 0.06)]</td>\n",
       "      <td>[0.91 (+/- 0.05)]</td>\n",
       "      <td>[0.87 (+/- 0.06)]</td>\n",
       "      <td>[0.95 (+/- 0.04)]</td>\n",
       "      <td>[0.87 (+/- 0.09)]</td>\n",
       "    </tr>\n",
       "    <tr>\n",
       "      <th>2</th>\n",
       "      <td>recall</td>\n",
       "      <td>[0.72 (+/- 0.02)]</td>\n",
       "      <td>[0.88 (+/- 0.06)]</td>\n",
       "      <td>[0.91 (+/- 0.05)]</td>\n",
       "      <td>[0.87 (+/- 0.06)]</td>\n",
       "      <td>[0.95 (+/- 0.04)]</td>\n",
       "      <td>[0.87 (+/- 0.09)]</td>\n",
       "    </tr>\n",
       "    <tr>\n",
       "      <th>3</th>\n",
       "      <td>F1-Score</td>\n",
       "      <td>[0.63 (+/- 0.04)]</td>\n",
       "      <td>[0.88 (+/- 0.06)]</td>\n",
       "      <td>[0.91 (+/- 0.05)]</td>\n",
       "      <td>[0.87 (+/- 0.06)]</td>\n",
       "      <td>[0.95 (+/- 0.04)]</td>\n",
       "      <td>[0.87 (+/- 0.09)]</td>\n",
       "    </tr>\n",
       "    <tr>\n",
       "      <th>4</th>\n",
       "      <td>Training_time</td>\n",
       "      <td>[0.00 (+/- 0.00)]</td>\n",
       "      <td>[0.08 (+/- 0.01)]</td>\n",
       "      <td>[0.10 (+/- 0.00)]</td>\n",
       "      <td>[1.97 (+/- 0.56)]</td>\n",
       "      <td>[2.14 (+/- 0.40)]</td>\n",
       "      <td>[0.13 (+/- 0.01)]</td>\n",
       "    </tr>\n",
       "    <tr>\n",
       "      <th>5</th>\n",
       "      <td>Classification_time</td>\n",
       "      <td>[0.09 (+/- 0.00)]</td>\n",
       "      <td>[0.05 (+/- 0.00)]</td>\n",
       "      <td>[0.04 (+/- 0.01)]</td>\n",
       "      <td>[0.01 (+/- 0.01)]</td>\n",
       "      <td>[0.68 (+/- 0.16)]</td>\n",
       "      <td>[0.00 (+/- 0.00)]</td>\n",
       "    </tr>\n",
       "  </tbody>\n",
       "</table>\n",
       "</div>"
      ],
      "text/plain": [
       "            Parameters                KNN                SVM  \\\n",
       "0             accuracy  [0.71 (+/- 0.02)]  [0.88 (+/- 0.06)]   \n",
       "1            precision  [0.77 (+/- 0.01)]  [0.88 (+/- 0.06)]   \n",
       "2               recall  [0.72 (+/- 0.02)]  [0.88 (+/- 0.06)]   \n",
       "3             F1-Score  [0.63 (+/- 0.04)]  [0.88 (+/- 0.06)]   \n",
       "4        Training_time  [0.00 (+/- 0.00)]  [0.08 (+/- 0.01)]   \n",
       "5  Classification_time  [0.09 (+/- 0.00)]  [0.05 (+/- 0.00)]   \n",
       "\n",
       "  Random Forest(Default) Neural Network(Default) Random Forest(Tuned)  \\\n",
       "0      [0.91 (+/- 0.05)]       [0.87 (+/- 0.06)]    [0.95 (+/- 0.04)]   \n",
       "1      [0.91 (+/- 0.05)]       [0.87 (+/- 0.06)]    [0.95 (+/- 0.04)]   \n",
       "2      [0.91 (+/- 0.05)]       [0.87 (+/- 0.06)]    [0.95 (+/- 0.04)]   \n",
       "3      [0.91 (+/- 0.05)]       [0.87 (+/- 0.06)]    [0.95 (+/- 0.04)]   \n",
       "4      [0.10 (+/- 0.00)]       [1.97 (+/- 0.56)]    [2.14 (+/- 0.40)]   \n",
       "5      [0.04 (+/- 0.01)]       [0.01 (+/- 0.01)]    [0.68 (+/- 0.16)]   \n",
       "\n",
       "  Neural Network(Tuned)  \n",
       "0     [0.87 (+/- 0.09)]  \n",
       "1     [0.87 (+/- 0.09)]  \n",
       "2     [0.87 (+/- 0.09)]  \n",
       "3     [0.87 (+/- 0.09)]  \n",
       "4     [0.13 (+/- 0.01)]  \n",
       "5     [0.00 (+/- 0.00)]  "
      ]
     },
     "execution_count": 118,
     "metadata": {},
     "output_type": "execute_result"
    }
   ],
   "source": [
    "metric_df=pd.DataFrame()\n",
    "data={'Parameters':['accuracy','precision','recall','F1-Score','Training_time','Classification_time'],'KNN': lst1[0:6], 'SVM': lst2[0:6],\n",
    "     'Random Forest(Default)': lst3[0:6], 'Neural Network(Default)': lst4[0:6],\n",
    "     'Random Forest(Tuned)': lst5[0:6], 'Neural Network(Tuned)':lst6[0:6]}\n",
    "metric_df=pd.DataFrame(data=data)\n",
    "metric_df"
   ]
  },
  {
   "cell_type": "markdown",
   "metadata": {},
   "source": [
    "### Explain why the classification was repeated 20 times\n"
   ]
  },
  {
   "cell_type": "markdown",
   "metadata": {},
   "source": [
    "### The experiment is repeated 20 times with varying training-test set. It ensures that the model is trained on all the subsets of data and it makes the model generalizable."
   ]
  },
  {
   "cell_type": "markdown",
   "metadata": {},
   "source": [
    "### Comment on the obtained results, what are the benefits and weaknesses of each method on this dataset. How could this analysis help to make the choice of the right method to use for a dataset of this type in the future?"
   ]
  },
  {
   "cell_type": "markdown",
   "metadata": {},
   "source": [
    "#### From the above results it is evident that Random Forest outperforms the other models. It has the highest accuracy 95%. KNN gives low accuracy of 70%. SVM and Random Forest did a good job in classifying with decent accuracy.\n",
    "#### Model Comparison:                                                                                                                                                                                     \n",
    "KNN\n",
    "Benefits: It can be used as a baseline for comparing advanced classification models. It has the lowest training time.\n",
    "Drawbacks: Classification time is very high.The discrete feature values have predefined distances whicj lead to poor perfomance. Need to decide the optimum number of neighbors.\n",
    "\n",
    "SVM:\n",
    "Benefits: It is a powerful classifier and after tuning the Hyperprameters Sigma and C, the accuracy improved to 90%.\n",
    "Drawbacks: The model did not perform well on the Repeated Kfold analysis.\n",
    "\n",
    "Random Forest:\n",
    "Benefits: Good model for this classification as it gives the highest accuracy.\n",
    "Drawbacks: Trining time increases as the Depth of the tree increses.Tends to overfit by memorizing the training data. Need to choose the number of trees.Tuning the HyperParameters is difficult.\n",
    "\n",
    "Neural Network:\n",
    "Benefits: Classification time is very less. Model provides decent accuracy. \n",
    "Drawbacks: Tuning the HyperParameters is difficult. Increasing the number of hidden layer didnot yield good accuracy.  \n"
   ]
  },
  {
   "cell_type": "markdown",
   "metadata": {},
   "source": [
    "### If you had to remove 1 features from the dataset, which feature would you select to remove from the dataset and why? What would have happened if you did classification on two dimensions only?"
   ]
  },
  {
   "cell_type": "code",
   "execution_count": 121,
   "metadata": {},
   "outputs": [
    {
     "data": {
      "text/plain": [
       "ExtraTreesClassifier(bootstrap=False, class_weight=None, criterion='gini',\n",
       "           max_depth=None, max_features='auto', max_leaf_nodes=None,\n",
       "           min_impurity_decrease=0.0, min_impurity_split=None,\n",
       "           min_samples_leaf=1, min_samples_split=2,\n",
       "           min_weight_fraction_leaf=0.0, n_estimators=10, n_jobs=None,\n",
       "           oob_score=False, random_state=None, verbose=0, warm_start=False)"
      ]
     },
     "execution_count": 121,
     "metadata": {},
     "output_type": "execute_result"
    }
   ],
   "source": [
    "from sklearn.ensemble import ExtraTreesClassifier\n",
    "import matplotlib.pyplot as plt\n",
    "ext_tr = ExtraTreesClassifier()\n",
    "ext_tr.fit(X,y)\n"
   ]
  },
  {
   "cell_type": "code",
   "execution_count": 125,
   "metadata": {},
   "outputs": [
    {
     "data": {
      "image/png": "[encoded data removed]",
      "text/plain": [
       "<Figure size 864x576 with 1 Axes>"
      ]
     },
     "metadata": {
      "needs_background": "light"
     },
     "output_type": "display_data"
    }
   ],
   "source": [
    "#Creating Dataframe:\n",
    "feat_importances = pd.DataFrame(ext_tr.feature_importances_, index=X.columns,columns=['Feature Importance'])\n",
    "bottom_features = feat_importances.sort_values(by=['Feature Importance']).head(10)\n",
    "\n",
    "#Plotting:\n",
    "fig, ax = plt.subplots(figsize=(12, 8))\n",
    "bottom_features.plot(kind='barh',ax=ax)\n",
    "plt.show()"
   ]
  },
  {
   "cell_type": "markdown",
   "metadata": {},
   "source": [
    "### From the above Tree classifier, which rates the features from most important to the least, it is clear that the Feature36 adds less value to the model and hence it can be removed. "
   ]
  },
  {
   "cell_type": "code",
   "execution_count": 137,
   "metadata": {},
   "outputs": [
    {
     "name": "stdout",
     "output_type": "stream",
     "text": [
      "              precision    recall  f1-score   support\n",
      "\n",
      "          -1       0.49      0.27      0.35       321\n",
      "           1       0.51      0.73      0.60       339\n",
      "\n",
      "   micro avg       0.51      0.51      0.51       660\n",
      "   macro avg       0.50      0.50      0.48       660\n",
      "weighted avg       0.50      0.51      0.48       660\n",
      "\n",
      "0.5075757575757576\n"
     ]
    }
   ],
   "source": [
    "# Having only 2 dimensions:\n",
    "new_X = z_score_scaled_features_df.copy()\n",
    "new_X=new_X.iloc[:,0:2]\n",
    "new_y = df_y\n",
    "X_train, X_test, y_train, y_test = train_test_split(new_X, new_y, test_size=0.3, random_state=101)\n",
    "\n",
    "\n",
    "svm_rbf_final = SVC(kernel='rbf',C=10,gamma=0.01,random_state=0)\n",
    "svm_rbf_final.fit(X_train,y_train)\n",
    "pred_random = svm_rbf_final.predict(X_test)\n",
    "print(classification_report(y_test,pred_random))\n",
    "print(accuracy_score(y_test,pred_random))"
   ]
  },
  {
   "cell_type": "markdown",
   "metadata": {},
   "source": [
    "#### Having only 2 dimensions reduces the accuracy to 50%, which is no better than flipping a coin. This is because the model doesnot have enough features to learn and fit the data."
   ]
  },
  {
   "cell_type": "code",
   "execution_count": null,
   "metadata": {},
   "outputs": [],
   "source": []
  },
  {
   "cell_type": "code",
   "execution_count": null,
   "metadata": {},
   "outputs": [],
   "source": []
  },
  {
   "cell_type": "code",
   "execution_count": null,
   "metadata": {},
   "outputs": [],
   "source": []
  }
 ],
 "metadata": {
  "kernelspec": {
   "display_name": "Python 3",
   "language": "python",
   "name": "python3"
  },
  "language_info": {
   "codemirror_mode": {
    "name": "ipython",
    "version": 3
   },
   "file_extension": ".py",
   "mimetype": "text/x-python",
   "name": "python",
   "nbconvert_exporter": "python",
   "pygments_lexer": "ipython3",
   "version": "3.7.1"
  }
 },
 "nbformat": 4,
 "nbformat_minor": 2
}
