{
 "cells": [
  {
   "cell_type": "markdown",
   "metadata": {},
   "source": [
    "### ECE 657A: Data and Knowledge Modeling and Analysis\n",
    "#### Assignment 2: Data Cleaning and Dimensionality Reduction\n"
   ]
  },
  {
   "cell_type": "markdown",
   "metadata": {},
   "source": [
    "**Submitted By Group 21:**<br>\n",
    "\n",
    "**Ankush Malhotra - 20709477**<br>\n",
    "\n",
    "**Shreesha Pillangere Ramachandra – 20740615**<br>\n",
    "\n",
    "**Gunasekaran Marati Saravanan - 20715573**<br>"
   ]
  },
  {
   "cell_type": "code",
   "execution_count": 3,
   "metadata": {},
   "outputs": [],
   "source": [
    "#Importing libraries :\n",
    "import matplotlib.pyplot as plt\n",
    "import pandas as pd\n",
    "import numpy as np\n",
    "import seaborn as sns\n",
    "%matplotlib inline\n",
    "from scipy import stats"
   ]
  },
  {
   "cell_type": "markdown",
   "metadata": {},
   "source": [
    "## Question 2:Parameter Selection and Classification (for dataset B)\n",
    "### Classify dataset B using four classifiers: k-NN, Support Vector Machine (with RBF kernel), Random Forests and simple Neural Networks (MLPs). The objective is to experiment with parameter selection in training classifiers and to compare the performance of these well- known classification methods."
   ]
  },
  {
   "cell_type": "code",
   "execution_count": 4,
   "metadata": {},
   "outputs": [
    {
     "data": {
      "text/html": [
       "<div>\n",
       "<style scoped>\n",
       "    .dataframe tbody tr th:only-of-type {\n",
       "        vertical-align: middle;\n",
       "    }\n",
       "\n",
       "    .dataframe tbody tr th {\n",
       "        vertical-align: top;\n",
       "    }\n",
       "\n",
       "    .dataframe thead th {\n",
       "        text-align: right;\n",
       "    }\n",
       "</style>\n",
       "<table border=\"1\" class=\"dataframe\">\n",
       "  <thead>\n",
       "    <tr style=\"text-align: right;\">\n",
       "      <th></th>\n",
       "      <th>1</th>\n",
       "      <th>2</th>\n",
       "      <th>1.1</th>\n",
       "      <th>2.1</th>\n",
       "      <th>1.2</th>\n",
       "      <th>2.2</th>\n",
       "      <th>3</th>\n",
       "      <th>3.1</th>\n",
       "      <th>3.2</th>\n",
       "      <th>3.3</th>\n",
       "      <th>...</th>\n",
       "      <th>3.8</th>\n",
       "      <th>2.19</th>\n",
       "      <th>3.9</th>\n",
       "      <th>4.6</th>\n",
       "      <th>2.20</th>\n",
       "      <th>2.21</th>\n",
       "      <th>2.22</th>\n",
       "      <th>2.23</th>\n",
       "      <th>1.15</th>\n",
       "      <th>1.16</th>\n",
       "    </tr>\n",
       "  </thead>\n",
       "  <tbody>\n",
       "    <tr>\n",
       "      <th>0</th>\n",
       "      <td>3</td>\n",
       "      <td>3</td>\n",
       "      <td>4</td>\n",
       "      <td>2</td>\n",
       "      <td>1</td>\n",
       "      <td>2</td>\n",
       "      <td>2</td>\n",
       "      <td>4</td>\n",
       "      <td>3</td>\n",
       "      <td>2</td>\n",
       "      <td>...</td>\n",
       "      <td>1</td>\n",
       "      <td>4</td>\n",
       "      <td>3</td>\n",
       "      <td>4</td>\n",
       "      <td>4</td>\n",
       "      <td>4</td>\n",
       "      <td>1</td>\n",
       "      <td>3</td>\n",
       "      <td>4</td>\n",
       "      <td>1</td>\n",
       "    </tr>\n",
       "    <tr>\n",
       "      <th>1</th>\n",
       "      <td>4</td>\n",
       "      <td>1</td>\n",
       "      <td>4</td>\n",
       "      <td>4</td>\n",
       "      <td>4</td>\n",
       "      <td>4</td>\n",
       "      <td>1</td>\n",
       "      <td>1</td>\n",
       "      <td>2</td>\n",
       "      <td>1</td>\n",
       "      <td>...</td>\n",
       "      <td>1</td>\n",
       "      <td>2</td>\n",
       "      <td>1</td>\n",
       "      <td>1</td>\n",
       "      <td>4</td>\n",
       "      <td>2</td>\n",
       "      <td>2</td>\n",
       "      <td>4</td>\n",
       "      <td>4</td>\n",
       "      <td>1</td>\n",
       "    </tr>\n",
       "    <tr>\n",
       "      <th>2</th>\n",
       "      <td>1</td>\n",
       "      <td>4</td>\n",
       "      <td>1</td>\n",
       "      <td>1</td>\n",
       "      <td>3</td>\n",
       "      <td>3</td>\n",
       "      <td>4</td>\n",
       "      <td>4</td>\n",
       "      <td>3</td>\n",
       "      <td>4</td>\n",
       "      <td>...</td>\n",
       "      <td>1</td>\n",
       "      <td>3</td>\n",
       "      <td>3</td>\n",
       "      <td>4</td>\n",
       "      <td>1</td>\n",
       "      <td>3</td>\n",
       "      <td>3</td>\n",
       "      <td>4</td>\n",
       "      <td>2</td>\n",
       "      <td>-1</td>\n",
       "    </tr>\n",
       "    <tr>\n",
       "      <th>3</th>\n",
       "      <td>3</td>\n",
       "      <td>4</td>\n",
       "      <td>4</td>\n",
       "      <td>3</td>\n",
       "      <td>1</td>\n",
       "      <td>1</td>\n",
       "      <td>4</td>\n",
       "      <td>4</td>\n",
       "      <td>4</td>\n",
       "      <td>1</td>\n",
       "      <td>...</td>\n",
       "      <td>3</td>\n",
       "      <td>1</td>\n",
       "      <td>3</td>\n",
       "      <td>2</td>\n",
       "      <td>1</td>\n",
       "      <td>4</td>\n",
       "      <td>2</td>\n",
       "      <td>1</td>\n",
       "      <td>1</td>\n",
       "      <td>-1</td>\n",
       "    </tr>\n",
       "    <tr>\n",
       "      <th>4</th>\n",
       "      <td>3</td>\n",
       "      <td>2</td>\n",
       "      <td>3</td>\n",
       "      <td>1</td>\n",
       "      <td>2</td>\n",
       "      <td>3</td>\n",
       "      <td>4</td>\n",
       "      <td>3</td>\n",
       "      <td>1</td>\n",
       "      <td>4</td>\n",
       "      <td>...</td>\n",
       "      <td>2</td>\n",
       "      <td>2</td>\n",
       "      <td>2</td>\n",
       "      <td>3</td>\n",
       "      <td>4</td>\n",
       "      <td>2</td>\n",
       "      <td>2</td>\n",
       "      <td>2</td>\n",
       "      <td>2</td>\n",
       "      <td>-1</td>\n",
       "    </tr>\n",
       "  </tbody>\n",
       "</table>\n",
       "<p>5 rows × 58 columns</p>\n",
       "</div>"
      ],
      "text/plain": [
       "   1  2  1.1  2.1  1.2  2.2  3  3.1  3.2  3.3  ...   3.8  2.19  3.9  4.6  \\\n",
       "0  3  3    4    2    1    2  2    4    3    2  ...     1     4    3    4   \n",
       "1  4  1    4    4    4    4  1    1    2    1  ...     1     2    1    1   \n",
       "2  1  4    1    1    3    3  4    4    3    4  ...     1     3    3    4   \n",
       "3  3  4    4    3    1    1  4    4    4    1  ...     3     1    3    2   \n",
       "4  3  2    3    1    2    3  4    3    1    4  ...     2     2    2    3   \n",
       "\n",
       "   2.20  2.21  2.22  2.23  1.15  1.16  \n",
       "0     4     4     1     3     4     1  \n",
       "1     4     2     2     4     4     1  \n",
       "2     1     3     3     4     2    -1  \n",
       "3     1     4     2     1     1    -1  \n",
       "4     4     2     2     2     2    -1  \n",
       "\n",
       "[5 rows x 58 columns]"
      ]
     },
     "execution_count": 4,
     "metadata": {},
     "output_type": "execute_result"
    }
   ],
   "source": [
    "#Reading \"DataDNA.csv\" file:\n",
    "df_b = pd.read_csv('DataDNA.csv')\n",
    "df_b.head()"
   ]
  },
  {
   "cell_type": "code",
   "execution_count": 5,
   "metadata": {},
   "outputs": [
    {
     "data": {
      "text/html": [
       "<div>\n",
       "<style scoped>\n",
       "    .dataframe tbody tr th:only-of-type {\n",
       "        vertical-align: middle;\n",
       "    }\n",
       "\n",
       "    .dataframe tbody tr th {\n",
       "        vertical-align: top;\n",
       "    }\n",
       "\n",
       "    .dataframe thead th {\n",
       "        text-align: right;\n",
       "    }\n",
       "</style>\n",
       "<table border=\"1\" class=\"dataframe\">\n",
       "  <thead>\n",
       "    <tr style=\"text-align: right;\">\n",
       "      <th></th>\n",
       "      <th>1</th>\n",
       "      <th>2</th>\n",
       "      <th>1.1</th>\n",
       "      <th>2.1</th>\n",
       "      <th>1.2</th>\n",
       "      <th>2.2</th>\n",
       "      <th>3</th>\n",
       "      <th>3.1</th>\n",
       "      <th>3.2</th>\n",
       "      <th>3.3</th>\n",
       "      <th>...</th>\n",
       "      <th>3.8</th>\n",
       "      <th>2.19</th>\n",
       "      <th>3.9</th>\n",
       "      <th>4.6</th>\n",
       "      <th>2.20</th>\n",
       "      <th>2.21</th>\n",
       "      <th>2.22</th>\n",
       "      <th>2.23</th>\n",
       "      <th>1.15</th>\n",
       "      <th>1.16</th>\n",
       "    </tr>\n",
       "  </thead>\n",
       "  <tbody>\n",
       "    <tr>\n",
       "      <th>count</th>\n",
       "      <td>2199.000000</td>\n",
       "      <td>2199.000000</td>\n",
       "      <td>2199.000000</td>\n",
       "      <td>2199.000000</td>\n",
       "      <td>2199.000000</td>\n",
       "      <td>2199.000000</td>\n",
       "      <td>2199.000000</td>\n",
       "      <td>2199.000000</td>\n",
       "      <td>2199.000000</td>\n",
       "      <td>2199.000000</td>\n",
       "      <td>...</td>\n",
       "      <td>2199.000000</td>\n",
       "      <td>2199.000000</td>\n",
       "      <td>2199.000000</td>\n",
       "      <td>2199.000000</td>\n",
       "      <td>2199.000000</td>\n",
       "      <td>2199.000000</td>\n",
       "      <td>2199.000000</td>\n",
       "      <td>2199.000000</td>\n",
       "      <td>2199.000000</td>\n",
       "      <td>2199.000000</td>\n",
       "    </tr>\n",
       "    <tr>\n",
       "      <th>mean</th>\n",
       "      <td>2.493861</td>\n",
       "      <td>2.529786</td>\n",
       "      <td>2.507503</td>\n",
       "      <td>2.527058</td>\n",
       "      <td>2.548431</td>\n",
       "      <td>2.492951</td>\n",
       "      <td>2.549795</td>\n",
       "      <td>2.541155</td>\n",
       "      <td>2.552979</td>\n",
       "      <td>2.564802</td>\n",
       "      <td>...</td>\n",
       "      <td>2.498408</td>\n",
       "      <td>2.497499</td>\n",
       "      <td>2.438836</td>\n",
       "      <td>2.495225</td>\n",
       "      <td>2.482492</td>\n",
       "      <td>2.436107</td>\n",
       "      <td>2.500682</td>\n",
       "      <td>2.456571</td>\n",
       "      <td>2.512960</td>\n",
       "      <td>0.033197</td>\n",
       "    </tr>\n",
       "    <tr>\n",
       "      <th>std</th>\n",
       "      <td>1.103734</td>\n",
       "      <td>1.086730</td>\n",
       "      <td>1.097940</td>\n",
       "      <td>1.118978</td>\n",
       "      <td>1.081441</td>\n",
       "      <td>1.099599</td>\n",
       "      <td>1.110029</td>\n",
       "      <td>1.103808</td>\n",
       "      <td>1.126967</td>\n",
       "      <td>1.108433</td>\n",
       "      <td>...</td>\n",
       "      <td>1.104986</td>\n",
       "      <td>1.070690</td>\n",
       "      <td>1.093767</td>\n",
       "      <td>1.087128</td>\n",
       "      <td>1.065865</td>\n",
       "      <td>1.089860</td>\n",
       "      <td>1.092149</td>\n",
       "      <td>1.093367</td>\n",
       "      <td>1.086224</td>\n",
       "      <td>0.999676</td>\n",
       "    </tr>\n",
       "    <tr>\n",
       "      <th>min</th>\n",
       "      <td>1.000000</td>\n",
       "      <td>1.000000</td>\n",
       "      <td>1.000000</td>\n",
       "      <td>1.000000</td>\n",
       "      <td>1.000000</td>\n",
       "      <td>1.000000</td>\n",
       "      <td>1.000000</td>\n",
       "      <td>1.000000</td>\n",
       "      <td>1.000000</td>\n",
       "      <td>1.000000</td>\n",
       "      <td>...</td>\n",
       "      <td>1.000000</td>\n",
       "      <td>1.000000</td>\n",
       "      <td>1.000000</td>\n",
       "      <td>1.000000</td>\n",
       "      <td>1.000000</td>\n",
       "      <td>1.000000</td>\n",
       "      <td>1.000000</td>\n",
       "      <td>1.000000</td>\n",
       "      <td>1.000000</td>\n",
       "      <td>-1.000000</td>\n",
       "    </tr>\n",
       "    <tr>\n",
       "      <th>25%</th>\n",
       "      <td>2.000000</td>\n",
       "      <td>2.000000</td>\n",
       "      <td>2.000000</td>\n",
       "      <td>2.000000</td>\n",
       "      <td>2.000000</td>\n",
       "      <td>2.000000</td>\n",
       "      <td>2.000000</td>\n",
       "      <td>2.000000</td>\n",
       "      <td>2.000000</td>\n",
       "      <td>2.000000</td>\n",
       "      <td>...</td>\n",
       "      <td>2.000000</td>\n",
       "      <td>2.000000</td>\n",
       "      <td>1.000000</td>\n",
       "      <td>2.000000</td>\n",
       "      <td>2.000000</td>\n",
       "      <td>1.000000</td>\n",
       "      <td>2.000000</td>\n",
       "      <td>2.000000</td>\n",
       "      <td>2.000000</td>\n",
       "      <td>-1.000000</td>\n",
       "    </tr>\n",
       "    <tr>\n",
       "      <th>50%</th>\n",
       "      <td>3.000000</td>\n",
       "      <td>3.000000</td>\n",
       "      <td>3.000000</td>\n",
       "      <td>3.000000</td>\n",
       "      <td>3.000000</td>\n",
       "      <td>3.000000</td>\n",
       "      <td>3.000000</td>\n",
       "      <td>3.000000</td>\n",
       "      <td>3.000000</td>\n",
       "      <td>3.000000</td>\n",
       "      <td>...</td>\n",
       "      <td>3.000000</td>\n",
       "      <td>2.000000</td>\n",
       "      <td>2.000000</td>\n",
       "      <td>2.000000</td>\n",
       "      <td>2.000000</td>\n",
       "      <td>2.000000</td>\n",
       "      <td>3.000000</td>\n",
       "      <td>2.000000</td>\n",
       "      <td>3.000000</td>\n",
       "      <td>1.000000</td>\n",
       "    </tr>\n",
       "    <tr>\n",
       "      <th>75%</th>\n",
       "      <td>3.000000</td>\n",
       "      <td>3.000000</td>\n",
       "      <td>3.000000</td>\n",
       "      <td>4.000000</td>\n",
       "      <td>3.000000</td>\n",
       "      <td>3.000000</td>\n",
       "      <td>4.000000</td>\n",
       "      <td>3.000000</td>\n",
       "      <td>4.000000</td>\n",
       "      <td>4.000000</td>\n",
       "      <td>...</td>\n",
       "      <td>3.000000</td>\n",
       "      <td>3.000000</td>\n",
       "      <td>3.000000</td>\n",
       "      <td>3.000000</td>\n",
       "      <td>3.000000</td>\n",
       "      <td>3.000000</td>\n",
       "      <td>3.000000</td>\n",
       "      <td>3.000000</td>\n",
       "      <td>3.000000</td>\n",
       "      <td>1.000000</td>\n",
       "    </tr>\n",
       "    <tr>\n",
       "      <th>max</th>\n",
       "      <td>4.000000</td>\n",
       "      <td>4.000000</td>\n",
       "      <td>4.000000</td>\n",
       "      <td>4.000000</td>\n",
       "      <td>4.000000</td>\n",
       "      <td>4.000000</td>\n",
       "      <td>4.000000</td>\n",
       "      <td>4.000000</td>\n",
       "      <td>4.000000</td>\n",
       "      <td>4.000000</td>\n",
       "      <td>...</td>\n",
       "      <td>4.000000</td>\n",
       "      <td>4.000000</td>\n",
       "      <td>4.000000</td>\n",
       "      <td>4.000000</td>\n",
       "      <td>4.000000</td>\n",
       "      <td>4.000000</td>\n",
       "      <td>4.000000</td>\n",
       "      <td>4.000000</td>\n",
       "      <td>4.000000</td>\n",
       "      <td>1.000000</td>\n",
       "    </tr>\n",
       "  </tbody>\n",
       "</table>\n",
       "<p>8 rows × 58 columns</p>\n",
       "</div>"
      ],
      "text/plain": [
       "                 1            2          1.1          2.1          1.2  \\\n",
       "count  2199.000000  2199.000000  2199.000000  2199.000000  2199.000000   \n",
       "mean      2.493861     2.529786     2.507503     2.527058     2.548431   \n",
       "std       1.103734     1.086730     1.097940     1.118978     1.081441   \n",
       "min       1.000000     1.000000     1.000000     1.000000     1.000000   \n",
       "25%       2.000000     2.000000     2.000000     2.000000     2.000000   \n",
       "50%       3.000000     3.000000     3.000000     3.000000     3.000000   \n",
       "75%       3.000000     3.000000     3.000000     4.000000     3.000000   \n",
       "max       4.000000     4.000000     4.000000     4.000000     4.000000   \n",
       "\n",
       "               2.2            3          3.1          3.2          3.3  \\\n",
       "count  2199.000000  2199.000000  2199.000000  2199.000000  2199.000000   \n",
       "mean      2.492951     2.549795     2.541155     2.552979     2.564802   \n",
       "std       1.099599     1.110029     1.103808     1.126967     1.108433   \n",
       "min       1.000000     1.000000     1.000000     1.000000     1.000000   \n",
       "25%       2.000000     2.000000     2.000000     2.000000     2.000000   \n",
       "50%       3.000000     3.000000     3.000000     3.000000     3.000000   \n",
       "75%       3.000000     4.000000     3.000000     4.000000     4.000000   \n",
       "max       4.000000     4.000000     4.000000     4.000000     4.000000   \n",
       "\n",
       "          ...               3.8         2.19          3.9          4.6  \\\n",
       "count     ...       2199.000000  2199.000000  2199.000000  2199.000000   \n",
       "mean      ...          2.498408     2.497499     2.438836     2.495225   \n",
       "std       ...          1.104986     1.070690     1.093767     1.087128   \n",
       "min       ...          1.000000     1.000000     1.000000     1.000000   \n",
       "25%       ...          2.000000     2.000000     1.000000     2.000000   \n",
       "50%       ...          3.000000     2.000000     2.000000     2.000000   \n",
       "75%       ...          3.000000     3.000000     3.000000     3.000000   \n",
       "max       ...          4.000000     4.000000     4.000000     4.000000   \n",
       "\n",
       "              2.20         2.21         2.22         2.23         1.15  \\\n",
       "count  2199.000000  2199.000000  2199.000000  2199.000000  2199.000000   \n",
       "mean      2.482492     2.436107     2.500682     2.456571     2.512960   \n",
       "std       1.065865     1.089860     1.092149     1.093367     1.086224   \n",
       "min       1.000000     1.000000     1.000000     1.000000     1.000000   \n",
       "25%       2.000000     1.000000     2.000000     2.000000     2.000000   \n",
       "50%       2.000000     2.000000     3.000000     2.000000     3.000000   \n",
       "75%       3.000000     3.000000     3.000000     3.000000     3.000000   \n",
       "max       4.000000     4.000000     4.000000     4.000000     4.000000   \n",
       "\n",
       "              1.16  \n",
       "count  2199.000000  \n",
       "mean      0.033197  \n",
       "std       0.999676  \n",
       "min      -1.000000  \n",
       "25%      -1.000000  \n",
       "50%       1.000000  \n",
       "75%       1.000000  \n",
       "max       1.000000  \n",
       "\n",
       "[8 rows x 58 columns]"
      ]
     },
     "execution_count": 5,
     "metadata": {},
     "output_type": "execute_result"
    }
   ],
   "source": [
    "df_b.describe()"
   ]
  },
  {
   "cell_type": "markdown",
   "metadata": {},
   "source": [
    "### 1. Preprocess the given data using the Z-score normalization on the data. Justify the choice of Z-score Normalization here, as opposed to min-max normalization. Why do you need normalization in general? Justify why you would normally split the test and training set randomly. What is the distribution of the +1,-1 classes in the dataset?"
   ]
  },
  {
   "cell_type": "markdown",
   "metadata": {},
   "source": [
    "### Preprocess the given data using the Z-score normalization on the data."
   ]
  },
  {
   "cell_type": "code",
   "execution_count": 6,
   "metadata": {},
   "outputs": [
    {
     "name": "stderr",
     "output_type": "stream",
     "text": [
      "C:\\Users\\Ankush\\Anaconda3\\lib\\site-packages\\sklearn\\preprocessing\\data.py:625: DataConversionWarning: Data with input dtype int64 were all converted to float64 by StandardScaler.\n",
      "  return self.partial_fit(X, y)\n",
      "C:\\Users\\Ankush\\Anaconda3\\lib\\site-packages\\sklearn\\base.py:462: DataConversionWarning: Data with input dtype int64 were all converted to float64 by StandardScaler.\n",
      "  return self.fit(X, **fit_params).transform(X)\n"
     ]
    },
    {
     "data": {
      "text/html": [
       "<div>\n",
       "<style scoped>\n",
       "    .dataframe tbody tr th:only-of-type {\n",
       "        vertical-align: middle;\n",
       "    }\n",
       "\n",
       "    .dataframe tbody tr th {\n",
       "        vertical-align: top;\n",
       "    }\n",
       "\n",
       "    .dataframe thead th {\n",
       "        text-align: right;\n",
       "    }\n",
       "</style>\n",
       "<table border=\"1\" class=\"dataframe\">\n",
       "  <thead>\n",
       "    <tr style=\"text-align: right;\">\n",
       "      <th></th>\n",
       "      <th>1</th>\n",
       "      <th>2</th>\n",
       "      <th>1.1</th>\n",
       "      <th>2.1</th>\n",
       "      <th>1.2</th>\n",
       "      <th>2.2</th>\n",
       "      <th>3</th>\n",
       "      <th>3.1</th>\n",
       "      <th>3.2</th>\n",
       "      <th>3.3</th>\n",
       "      <th>...</th>\n",
       "      <th>3.8</th>\n",
       "      <th>2.19</th>\n",
       "      <th>3.9</th>\n",
       "      <th>4.6</th>\n",
       "      <th>2.20</th>\n",
       "      <th>2.21</th>\n",
       "      <th>2.22</th>\n",
       "      <th>2.23</th>\n",
       "      <th>1.15</th>\n",
       "      <th>1.16</th>\n",
       "    </tr>\n",
       "  </thead>\n",
       "  <tbody>\n",
       "    <tr>\n",
       "      <th>0</th>\n",
       "      <td>0.458674</td>\n",
       "      <td>0.432785</td>\n",
       "      <td>1.359670</td>\n",
       "      <td>-0.471124</td>\n",
       "      <td>-1.432148</td>\n",
       "      <td>-0.448403</td>\n",
       "      <td>-0.495411</td>\n",
       "      <td>1.321948</td>\n",
       "      <td>0.396749</td>\n",
       "      <td>-0.509666</td>\n",
       "      <td>...</td>\n",
       "      <td>-1.356351</td>\n",
       "      <td>1.403621</td>\n",
       "      <td>0.513173</td>\n",
       "      <td>1.384490</td>\n",
       "      <td>1.424058</td>\n",
       "      <td>1.435275</td>\n",
       "      <td>-1.374377</td>\n",
       "      <td>0.497136</td>\n",
       "      <td>1.369311</td>\n",
       "      <td>1</td>\n",
       "    </tr>\n",
       "    <tr>\n",
       "      <th>1</th>\n",
       "      <td>1.364896</td>\n",
       "      <td>-1.408017</td>\n",
       "      <td>1.359670</td>\n",
       "      <td>1.316628</td>\n",
       "      <td>1.342560</td>\n",
       "      <td>1.370856</td>\n",
       "      <td>-1.396493</td>\n",
       "      <td>-1.396534</td>\n",
       "      <td>-0.490790</td>\n",
       "      <td>-1.412046</td>\n",
       "      <td>...</td>\n",
       "      <td>-1.356351</td>\n",
       "      <td>-0.464758</td>\n",
       "      <td>-1.315786</td>\n",
       "      <td>-1.375703</td>\n",
       "      <td>1.424058</td>\n",
       "      <td>-0.400241</td>\n",
       "      <td>-0.458542</td>\n",
       "      <td>1.411950</td>\n",
       "      <td>1.369311</td>\n",
       "      <td>1</td>\n",
       "    </tr>\n",
       "    <tr>\n",
       "      <th>2</th>\n",
       "      <td>-1.353769</td>\n",
       "      <td>1.353186</td>\n",
       "      <td>-1.373342</td>\n",
       "      <td>-1.365001</td>\n",
       "      <td>0.417657</td>\n",
       "      <td>0.461226</td>\n",
       "      <td>1.306754</td>\n",
       "      <td>1.321948</td>\n",
       "      <td>0.396749</td>\n",
       "      <td>1.295093</td>\n",
       "      <td>...</td>\n",
       "      <td>-1.356351</td>\n",
       "      <td>0.469431</td>\n",
       "      <td>0.513173</td>\n",
       "      <td>1.384490</td>\n",
       "      <td>-1.391199</td>\n",
       "      <td>0.517517</td>\n",
       "      <td>0.457293</td>\n",
       "      <td>1.411950</td>\n",
       "      <td>-0.472349</td>\n",
       "      <td>-1</td>\n",
       "    </tr>\n",
       "    <tr>\n",
       "      <th>3</th>\n",
       "      <td>0.458674</td>\n",
       "      <td>1.353186</td>\n",
       "      <td>1.359670</td>\n",
       "      <td>0.422752</td>\n",
       "      <td>-1.432148</td>\n",
       "      <td>-1.358032</td>\n",
       "      <td>1.306754</td>\n",
       "      <td>1.321948</td>\n",
       "      <td>1.284289</td>\n",
       "      <td>-1.412046</td>\n",
       "      <td>...</td>\n",
       "      <td>0.454038</td>\n",
       "      <td>-1.398948</td>\n",
       "      <td>0.513173</td>\n",
       "      <td>-0.455639</td>\n",
       "      <td>-1.391199</td>\n",
       "      <td>1.435275</td>\n",
       "      <td>-0.458542</td>\n",
       "      <td>-1.332492</td>\n",
       "      <td>-1.393179</td>\n",
       "      <td>-1</td>\n",
       "    </tr>\n",
       "    <tr>\n",
       "      <th>4</th>\n",
       "      <td>0.458674</td>\n",
       "      <td>-0.487616</td>\n",
       "      <td>0.448666</td>\n",
       "      <td>-1.365001</td>\n",
       "      <td>-0.507245</td>\n",
       "      <td>0.461226</td>\n",
       "      <td>1.306754</td>\n",
       "      <td>0.415787</td>\n",
       "      <td>-1.378330</td>\n",
       "      <td>1.295093</td>\n",
       "      <td>...</td>\n",
       "      <td>-0.451157</td>\n",
       "      <td>-0.464758</td>\n",
       "      <td>-0.401306</td>\n",
       "      <td>0.464425</td>\n",
       "      <td>1.424058</td>\n",
       "      <td>-0.400241</td>\n",
       "      <td>-0.458542</td>\n",
       "      <td>-0.417678</td>\n",
       "      <td>-0.472349</td>\n",
       "      <td>-1</td>\n",
       "    </tr>\n",
       "  </tbody>\n",
       "</table>\n",
       "<p>5 rows × 58 columns</p>\n",
       "</div>"
      ],
      "text/plain": [
       "          1         2       1.1       2.1       1.2       2.2         3  \\\n",
       "0  0.458674  0.432785  1.359670 -0.471124 -1.432148 -0.448403 -0.495411   \n",
       "1  1.364896 -1.408017  1.359670  1.316628  1.342560  1.370856 -1.396493   \n",
       "2 -1.353769  1.353186 -1.373342 -1.365001  0.417657  0.461226  1.306754   \n",
       "3  0.458674  1.353186  1.359670  0.422752 -1.432148 -1.358032  1.306754   \n",
       "4  0.458674 -0.487616  0.448666 -1.365001 -0.507245  0.461226  1.306754   \n",
       "\n",
       "        3.1       3.2       3.3  ...        3.8      2.19       3.9       4.6  \\\n",
       "0  1.321948  0.396749 -0.509666  ...  -1.356351  1.403621  0.513173  1.384490   \n",
       "1 -1.396534 -0.490790 -1.412046  ...  -1.356351 -0.464758 -1.315786 -1.375703   \n",
       "2  1.321948  0.396749  1.295093  ...  -1.356351  0.469431  0.513173  1.384490   \n",
       "3  1.321948  1.284289 -1.412046  ...   0.454038 -1.398948  0.513173 -0.455639   \n",
       "4  0.415787 -1.378330  1.295093  ...  -0.451157 -0.464758 -0.401306  0.464425   \n",
       "\n",
       "       2.20      2.21      2.22      2.23      1.15  1.16  \n",
       "0  1.424058  1.435275 -1.374377  0.497136  1.369311     1  \n",
       "1  1.424058 -0.400241 -0.458542  1.411950  1.369311     1  \n",
       "2 -1.391199  0.517517  0.457293  1.411950 -0.472349    -1  \n",
       "3 -1.391199  1.435275 -0.458542 -1.332492 -1.393179    -1  \n",
       "4  1.424058 -0.400241 -0.458542 -0.417678 -0.472349    -1  \n",
       "\n",
       "[5 rows x 58 columns]"
      ]
     },
     "execution_count": 6,
     "metadata": {},
     "output_type": "execute_result"
    }
   ],
   "source": [
    "df_y = df_b['1.16']\n",
    "df_z = df_b.drop('1.16', axis=1)\n",
    "#Importing required library:\n",
    "from sklearn.preprocessing import StandardScaler\n",
    "#Instantiating the function\n",
    "z_score_scaler = StandardScaler()\n",
    "\n",
    "z_score_transf = z_score_scaler.fit_transform(df_z)\n",
    "z_score_transf\n",
    "\n",
    "#Preparing dataframe\n",
    "z_score_scaled_features_df = pd.DataFrame(z_score_transf, index=df_z.index, columns=df_z.columns)\n",
    "z_score_scaled_features_df['1.16']=df_y\n",
    "z_score_scaled_features_df.head()"
   ]
  },
  {
   "cell_type": "markdown",
   "metadata": {},
   "source": [
    "### Justify the choice of Z-score Normalization here, as opposed to min-max normalization. "
   ]
  },
  {
   "cell_type": "markdown",
   "metadata": {},
   "source": [
    "### Ans. Z-score Normalization works well in this scenario since we get consistent mean-centred features with a unit scale variance. Also, our features are almost normally distributed. On the other hand, Min-Max scalar is sensitive to outliers and is used when distribution is non-Gaussian with small variance or standard deviation."
   ]
  },
  {
   "cell_type": "markdown",
   "metadata": {},
   "source": [
    "### Why do you need normalization in general?"
   ]
  },
  {
   "cell_type": "markdown",
   "metadata": {},
   "source": [
    "### Ans. The prime objective of normalization is to change the values of numeric columns in the dataset to a common scale, without distorting differences in the ranges of values. The objective functions of various machine learning classifiers are based on Euclidean distance, so if one of the feature has bigger values, this feature's distance will dominate the other features. As a result, the range of all the features should be changed by normalization so that each feature contributes equally (approx.) to the final distance. Furthermore, gradient descent converges faster with scaled features."
   ]
  },
  {
   "cell_type": "markdown",
   "metadata": {},
   "source": [
    "### Justify why you would normally split the test and training set randomly."
   ]
  },
  {
   "cell_type": "markdown",
   "metadata": {},
   "source": [
    "### Ans. We normally split the test and training set randomly to make sure there is no sampling bias introduced while training the data and testing it later. This also reduces the risk of having an overfitted model in the long run."
   ]
  },
  {
   "cell_type": "markdown",
   "metadata": {},
   "source": [
    "### What is the distribution of the +1,-1 classes in the dataset?¶"
   ]
  },
  {
   "cell_type": "code",
   "execution_count": 7,
   "metadata": {},
   "outputs": [
    {
     "name": "stderr",
     "output_type": "stream",
     "text": [
      "C:\\Users\\Ankush\\Anaconda3\\lib\\site-packages\\scipy\\stats\\stats.py:1713: FutureWarning: Using a non-tuple sequence for multidimensional indexing is deprecated; use `arr[tuple(seq)]` instead of `arr[seq]`. In the future this will be interpreted as an array index, `arr[np.array(seq)]`, which will result either in an error or a different result.\n",
      "  return np.add.reduce(sorted[indexer] * weights, axis=axis) / sumval\n"
     ]
    },
    {
     "data": {
      "text/plain": [
       "<matplotlib.axes._subplots.AxesSubplot at 0x2541df2fe48>"
      ]
     },
     "execution_count": 7,
     "metadata": {},
     "output_type": "execute_result"
    },
    {
     "data": {
      "image/png": "[encoded data removed]",
      "text/plain": [
       "<Figure size 432x288 with 1 Axes>"
      ]
     },
     "metadata": {
      "needs_background": "light"
     },
     "output_type": "display_data"
    }
   ],
   "source": [
    "sns.distplot(z_score_scaled_features_df['1.16'])"
   ]
  },
  {
   "cell_type": "code",
   "execution_count": 8,
   "metadata": {},
   "outputs": [
    {
     "data": {
      "text/plain": [
       "<matplotlib.axes._subplots.AxesSubplot at 0x254233515f8>"
      ]
     },
     "execution_count": 8,
     "metadata": {},
     "output_type": "execute_result"
    },
    {
     "data": {
      "image/png": "[encoded data removed]",
      "text/plain": [
       "<Figure size 432x288 with 1 Axes>"
      ]
     },
     "metadata": {
      "needs_background": "light"
     },
     "output_type": "display_data"
    }
   ],
   "source": [
    "z_score_scaled_features_df['1.16'].value_counts().plot(kind='bar')"
   ]
  },
  {
   "cell_type": "code",
   "execution_count": 9,
   "metadata": {},
   "outputs": [
    {
     "data": {
      "text/plain": [
       " 1    1136\n",
       "-1    1063\n",
       "Name: 1.16, dtype: int64"
      ]
     },
     "execution_count": 9,
     "metadata": {},
     "output_type": "execute_result"
    }
   ],
   "source": [
    "z_score_scaled_features_df['1.16'].value_counts()"
   ]
  },
  {
   "cell_type": "markdown",
   "metadata": {},
   "source": [
    "### Ans. We can say that both the classes are equally distributed without having any majority or minority class. From the distribution plot above we can infer the classes are normally distributed."
   ]
  },
  {
   "cell_type": "markdown",
   "metadata": {},
   "source": [
    "### 2. Parameter Selection:"
   ]
  },
  {
   "cell_type": "markdown",
   "metadata": {},
   "source": [
    "### (a) For k-NN you need to evaluate the best value k to use. Using 5-fold cross validation on the training set evaluate k-NN on the values k=[1, 3, 5, 7, , 31]. The following link can be helpful:  https://scikit-learn.org/stable/modules/cross_validation.html\n",
    "### Plot a figure that shows the relationship between the accuracy and the parameter k. Report the best k in terms of classification accuracy. Explain why you didnt evaluate directly on the test set."
   ]
  },
  {
   "cell_type": "code",
   "execution_count": 10,
   "metadata": {},
   "outputs": [],
   "source": [
    "from sklearn.model_selection import train_test_split\n",
    "X = z_score_scaled_features_df.copy()\n",
    "X.drop('1.16',axis=1,inplace=True)\n",
    "y = df_y\n",
    "X_train, X_test, y_train, y_test = train_test_split(X, y, test_size=0.3, random_state=101)"
   ]
  },
  {
   "cell_type": "code",
   "execution_count": 11,
   "metadata": {},
   "outputs": [],
   "source": [
    "from sklearn.model_selection import cross_val_score\n",
    "from sklearn.neighbors import KNeighborsClassifier\n",
    "Accuracy_kNN = []\n",
    "for i in range(1,33,2):\n",
    "    kNN = KNeighborsClassifier(n_neighbors=i)\n",
    "    scores = cross_val_score(kNN, X_train, y_train, cv=5, scoring='accuracy')\n",
    "    Accuracy_kNN.append(np.average(scores))                                              "
   ]
  },
  {
   "cell_type": "code",
   "execution_count": 12,
   "metadata": {},
   "outputs": [
    {
     "data": {
      "text/plain": [
       "Text(0, 0.5, 'Accuracy')"
      ]
     },
     "execution_count": 12,
     "metadata": {},
     "output_type": "execute_result"
    },
    {
     "data": {
      "image/png": "[encoded data removed]",
      "text/plain": [
       "<Figure size 720x432 with 1 Axes>"
      ]
     },
     "metadata": {
      "needs_background": "light"
     },
     "output_type": "display_data"
    }
   ],
   "source": [
    "#Plotting K with Accuracy rate:\n",
    "plt.figure(figsize=(10,6))\n",
    "plt.plot(range(1,33,2),Accuracy_kNN,color='blue',linestyle='dashed',marker='o',\n",
    "        markerfacecolor='red',markersize=10)\n",
    "plt.title('Accuracy vs K Value')\n",
    "plt.xlabel('K')\n",
    "plt.ylabel('Accuracy')"
   ]
  },
  {
   "cell_type": "markdown",
   "metadata": {},
   "source": [
    "### Ans. Best k in terms of classification accuracy is k=3.\n",
    "### We didn't evaluate directly on the test set because there is always a risk of overfitting on the test set i.e. knowledge about test set can hamper the model and the evaluation metric would no longer report on a generalizated scale."
   ]
  },
  {
   "cell_type": "markdown",
   "metadata": {},
   "source": [
    "### (b) For the RBF kernel SVM, there are two parameters to be decided: the soft margin penalty term \"c\" and the kernel width parameter \"sigma\". Again use 5-fold cross validation on the training set to select the parameter \"c\" from the set [0.1, 0.5, 1, 2, 5,10, 20, 50] and select the parameter \"sigma\" from the set [0.01, 0.05, 0.1, 0.5, 1, 2, 5, 10]. Report the best parameters in terms of classi\f",
    "cation accuracy including plotting the ROC curves."
   ]
  },
  {
   "cell_type": "code",
   "execution_count": 13,
   "metadata": {},
   "outputs": [],
   "source": [
    "from sklearn.svm import SVC\n",
    "svm_rbf = SVC(kernel='linear',random_state=0)"
   ]
  },
  {
   "cell_type": "code",
   "execution_count": 14,
   "metadata": {},
   "outputs": [],
   "source": [
    "from sklearn.model_selection import GridSearchCV\n",
    "paramters = [{'C':[0.1, 0.5, 1, 2, 5,10, 20, 50],'kernel':['rbf'],'gamma':[0.01, 0.05, 0.1, 0.5, 1, 2, 5, 10]}]"
   ]
  },
  {
   "cell_type": "code",
   "execution_count": 15,
   "metadata": {},
   "outputs": [],
   "source": [
    "grid_search = GridSearchCV(estimator=svm_rbf,param_grid=paramters,scoring='accuracy',cv=5,n_jobs=-1)\n",
    "grid_search_model = grid_search.fit(X_train,y_train)\n",
    "accuracy_grid = grid_search.best_score_"
   ]
  },
  {
   "cell_type": "code",
   "execution_count": 16,
   "metadata": {},
   "outputs": [
    {
     "data": {
      "text/plain": [
       "0.8888888888888888"
      ]
     },
     "execution_count": 16,
     "metadata": {},
     "output_type": "execute_result"
    }
   ],
   "source": [
    "accuracy_grid"
   ]
  },
  {
   "cell_type": "code",
   "execution_count": 17,
   "metadata": {},
   "outputs": [
    {
     "data": {
      "text/plain": [
       "{'C': 10, 'gamma': 0.01, 'kernel': 'rbf'}"
      ]
     },
     "execution_count": 17,
     "metadata": {},
     "output_type": "execute_result"
    }
   ],
   "source": [
    "# Best parameter in terms of classification accuracy:\n",
    "grid_search_model.best_params_"
   ]
  },
  {
   "cell_type": "code",
   "execution_count": 18,
   "metadata": {},
   "outputs": [
    {
     "data": {
      "text/plain": [
       "SVC(C=10, cache_size=200, class_weight=None, coef0=0.0,\n",
       "  decision_function_shape='ovr', degree=3, gamma=0.01, kernel='rbf',\n",
       "  max_iter=-1, probability=False, random_state=0, shrinking=True,\n",
       "  tol=0.001, verbose=False)"
      ]
     },
     "execution_count": 18,
     "metadata": {},
     "output_type": "execute_result"
    }
   ],
   "source": [
    "from sklearn.svm import SVC\n",
    "svm_rbf_final = SVC(kernel='rbf',C=10,gamma=0.01,random_state=0)\n",
    "svm_rbf_final.fit(X_train,y_train)"
   ]
  },
  {
   "cell_type": "code",
   "execution_count": 19,
   "metadata": {},
   "outputs": [
    {
     "name": "stdout",
     "output_type": "stream",
     "text": [
      "0.906060606060606\n"
     ]
    }
   ],
   "source": [
    "pred_svm = svm_rbf_final.predict(X_test)\n",
    "from sklearn.metrics import accuracy_score\n",
    "print(accuracy_score(y_test,pred_svm))"
   ]
  },
  {
   "cell_type": "code",
   "execution_count": 20,
   "metadata": {},
   "outputs": [
    {
     "data": {
      "text/plain": [
       "(array([0.        , 0.07278481, 1.        ]),\n",
       " array([0.        , 0.88662791, 1.        ]),\n",
       " array([ 2,  1, -1], dtype=int64))"
      ]
     },
     "execution_count": 20,
     "metadata": {},
     "output_type": "execute_result"
    }
   ],
   "source": [
    "#Roc curve:\n",
    "from sklearn.metrics import roc_curve\n",
    "roc_curve(y_test,pred_svm)"
   ]
  },
  {
   "cell_type": "code",
   "execution_count": 21,
   "metadata": {},
   "outputs": [
    {
     "data": {
      "text/plain": [
       "<matplotlib.legend.Legend at 0x2542388d860>"
      ]
     },
     "execution_count": 21,
     "metadata": {},
     "output_type": "execute_result"
    },
    {
     "data": {
      "image/png": "[encoded data removed]",
      "text/plain": [
       "<Figure size 432x288 with 1 Axes>"
      ]
     },
     "metadata": {
      "needs_background": "light"
     },
     "output_type": "display_data"
    }
   ],
   "source": [
    "from sklearn.metrics import roc_curve\n",
    "from sklearn.metrics import auc\n",
    "\n",
    "# Compute fpr, tpr, thresholds and roc auc\n",
    "fpr, tpr, thresholds = roc_curve(pred_svm,y_test)\n",
    "roc_auc = auc(fpr, tpr)\n",
    "\n",
    "# Plot ROC curve\n",
    "plt.plot(fpr, tpr, label='ROC curve (area = %0.3f)' % roc_auc)\n",
    "plt.plot([0, 1], [0, 1], 'k--')  # random predictions curve\n",
    "plt.xlim([0.0, 1.0])\n",
    "plt.ylim([0.0, 1.0])\n",
    "plt.xlabel('False Positive Rate or (1 - Specifity)')\n",
    "plt.ylabel('True Positive Rate or (Sensitivity)')\n",
    "plt.title('Receiver Operating Characteristic')\n",
    "plt.legend(loc=\"lower right\")"
   ]
  },
  {
   "cell_type": "markdown",
   "metadata": {},
   "source": [
    "### 3. Train (at least) six classifiers and report the results:\n",
    "### (a) Classify the test set using k-NN, SVM, Random Forests and Neural Networks. Use the chosen parameters from the parameter selection process in question 2 for k-NN and SVM. For the next two classifiers use the default setups listed at the end for Random Forests and Neural Networks."
   ]
  },
  {
   "cell_type": "code",
   "execution_count": 31,
   "metadata": {},
   "outputs": [
    {
     "data": {
      "text/plain": [
       "0.7401473704183928"
      ]
     },
     "execution_count": 31,
     "metadata": {},
     "output_type": "execute_result"
    }
   ],
   "source": [
    "#Training kNN with K=3 selected from question 2:\n",
    "kNN_3 = KNeighborsClassifier(n_neighbors=3)\n",
    "scores_3 = cross_val_score(kNN_3, X_train, y_train, cv=5, scoring='accuracy')\n",
    "np.average(scores_3)"
   ]
  },
  {
   "cell_type": "code",
   "execution_count": 32,
   "metadata": {},
   "outputs": [
    {
     "name": "stdout",
     "output_type": "stream",
     "text": [
      "              precision    recall  f1-score   support\n",
      "\n",
      "          -1       0.66      0.95      0.78       316\n",
      "           1       0.93      0.56      0.70       344\n",
      "\n",
      "   micro avg       0.75      0.75      0.75       660\n",
      "   macro avg       0.80      0.76      0.74       660\n",
      "weighted avg       0.80      0.75      0.74       660\n",
      "\n",
      "0.746969696969697\n"
     ]
    }
   ],
   "source": [
    "kNN_3.fit(X_train, y_train)\n",
    "pred_kNN_3 =kNN_3.predict(X_test)\n",
    "from sklearn.metrics import classification_report\n",
    "from sklearn.metrics import accuracy_score\n",
    "print(classification_report(y_test,pred_kNN_3))\n",
    "print(accuracy_score(y_test,pred_kNN_3))"
   ]
  },
  {
   "cell_type": "code",
   "execution_count": 33,
   "metadata": {},
   "outputs": [
    {
     "data": {
      "text/plain": [
       "SVC(C=10, cache_size=200, class_weight=None, coef0=0.0,\n",
       "  decision_function_shape='ovr', degree=3, gamma=0.01, kernel='rbf',\n",
       "  max_iter=-1, probability=False, random_state=0, shrinking=True,\n",
       "  tol=0.001, verbose=False)"
      ]
     },
     "execution_count": 33,
     "metadata": {},
     "output_type": "execute_result"
    }
   ],
   "source": [
    "#Training SVM with kernel='rbf', C=10, gamma=0.01 \n",
    "from sklearn.svm import SVC\n",
    "svm_rbf = SVC(kernel='rbf',C=10,gamma=0.01,random_state=0)\n",
    "svm_rbf.fit(X_train,y_train)"
   ]
  },
  {
   "cell_type": "code",
   "execution_count": 34,
   "metadata": {},
   "outputs": [
    {
     "name": "stdout",
     "output_type": "stream",
     "text": [
      "              precision    recall  f1-score   support\n",
      "\n",
      "          -1       0.88      0.93      0.90       316\n",
      "           1       0.93      0.89      0.91       344\n",
      "\n",
      "   micro avg       0.91      0.91      0.91       660\n",
      "   macro avg       0.91      0.91      0.91       660\n",
      "weighted avg       0.91      0.91      0.91       660\n",
      "\n",
      "0.906060606060606\n"
     ]
    }
   ],
   "source": [
    "pred_svm_pre = svm_rbf.predict(X_test)\n",
    "from sklearn.metrics import classification_report\n",
    "from sklearn.metrics import accuracy_score\n",
    "print(classification_report(y_test,pred_svm_pre))\n",
    "print(accuracy_score(y_test,pred_svm_pre))"
   ]
  },
  {
   "cell_type": "code",
   "execution_count": 37,
   "metadata": {},
   "outputs": [
    {
     "data": {
      "text/plain": [
       "RandomForestClassifier(bootstrap=True, class_weight=None, criterion='gini',\n",
       "            max_depth=2, max_features='auto', max_leaf_nodes=None,\n",
       "            min_impurity_decrease=0.0, min_impurity_split=None,\n",
       "            min_samples_leaf=1, min_samples_split=2,\n",
       "            min_weight_fraction_leaf=0.0, n_estimators=100, n_jobs=None,\n",
       "            oob_score=False, random_state=0, verbose=0, warm_start=False)"
      ]
     },
     "execution_count": 37,
     "metadata": {},
     "output_type": "execute_result"
    }
   ],
   "source": [
    "#Training Random Forest with default paramters:\n",
    "from sklearn.ensemble import RandomForestClassifier\n",
    "clf_rand = RandomForestClassifier(n_estimators=100, max_depth=2,random_state=0)\n",
    "clf_rand.fit(X_train, y_train)"
   ]
  },
  {
   "cell_type": "code",
   "execution_count": 39,
   "metadata": {},
   "outputs": [
    {
     "name": "stdout",
     "output_type": "stream",
     "text": [
      "              precision    recall  f1-score   support\n",
      "\n",
      "          -1       0.88      0.92      0.90       316\n",
      "           1       0.93      0.88      0.90       344\n",
      "\n",
      "   micro avg       0.90      0.90      0.90       660\n",
      "   macro avg       0.90      0.90      0.90       660\n",
      "weighted avg       0.90      0.90      0.90       660\n",
      "\n",
      "0.9030303030303031\n"
     ]
    }
   ],
   "source": [
    "pred_random = clf_rand.predict(X_test)\n",
    "from sklearn.metrics import classification_report\n",
    "from sklearn.metrics import accuracy_score\n",
    "print(classification_report(y_test,pred_random))\n",
    "print(accuracy_score(y_test,pred_random))"
   ]
  },
  {
   "cell_type": "code",
   "execution_count": null,
   "metadata": {},
   "outputs": [],
   "source": [
    "#Training default neural network:\n"
   ]
  }
 ],
 "metadata": {
  "kernelspec": {
   "display_name": "Python 3",
   "language": "python",
   "name": "python3"
  },
  "language_info": {
   "codemirror_mode": {
    "name": "ipython",
    "version": 3
   },
   "file_extension": ".py",
   "mimetype": "text/x-python",
   "name": "python",
   "nbconvert_exporter": "python",
   "pygments_lexer": "ipython3",
   "version": "3.7.1"
  }
 },
 "nbformat": 4,
 "nbformat_minor": 2
}
